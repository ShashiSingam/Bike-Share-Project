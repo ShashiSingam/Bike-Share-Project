{
  "nbformat": 4,
  "nbformat_minor": 0,
  "metadata": {
    "colab": {
      "name": "Final_EDA_Merging_revisited.ipynb",
      "version": "0.3.2",
      "provenance": [],
      "collapsed_sections": []
    },
    "kernelspec": {
      "name": "python3",
      "display_name": "Python 3"
    }
  },
  "cells": [
    {
      "cell_type": "code",
      "metadata": {
        "id": "pp52xZHiccwW",
        "colab_type": "code",
        "colab": {}
      },
      "source": [
        "import pandas as pd\n",
        "import numpy as np\n",
        "import matplotlib.pyplot as plt\n",
        "import seaborn as sns\n",
        "import random\n",
        "import pickle\n",
        "#import geopandas\n",
        "from shapely.geometry import Point\n"
      ],
      "execution_count": 0,
      "outputs": []
    },
    {
      "cell_type": "code",
      "metadata": {
        "id": "9lmJ37R_c-5B",
        "colab_type": "code",
        "outputId": "9ed9fd9f-267f-4b00-88c9-b51f7257d033",
        "colab": {
          "base_uri": "https://localhost:8080/",
          "height": 122
        }
      },
      "source": [
        "from google.colab import drive\n",
        "drive.mount('/content/drive/')"
      ],
      "execution_count": 2,
      "outputs": [
        {
          "output_type": "stream",
          "text": [
            "Go to this URL in a browser: https://accounts.google.com/o/oauth2/auth?client_id=947318989803-6bn6qk8qdgf4n4g3pfee6491hc0brc4i.apps.googleusercontent.com&redirect_uri=urn%3Aietf%3Awg%3Aoauth%3A2.0%3Aoob&scope=email%20https%3A%2F%2Fwww.googleapis.com%2Fauth%2Fdocs.test%20https%3A%2F%2Fwww.googleapis.com%2Fauth%2Fdrive%20https%3A%2F%2Fwww.googleapis.com%2Fauth%2Fdrive.photos.readonly%20https%3A%2F%2Fwww.googleapis.com%2Fauth%2Fpeopleapi.readonly&response_type=code\n",
            "\n",
            "Enter your authorization code:\n",
            "··········\n",
            "Mounted at /content/drive/\n"
          ],
          "name": "stdout"
        }
      ]
    },
    {
      "cell_type": "code",
      "metadata": {
        "id": "U5wvFYNlcpqA",
        "colab_type": "code",
        "colab": {}
      },
      "source": [
        "station_data_orig = pd.read_csv(\"/content/drive/My Drive/Data/Bikes_data/data/station_data.csv\")\n",
        "trip_data_orig = pd.read_csv('/content/drive/My Drive/Data/Bikes_data/data/trip_data.csv')\n",
        "weather_data_orig = pd.read_csv('/content/drive/My Drive/Data/Bikes_data/data/weather_data.csv')"
      ],
      "execution_count": 0,
      "outputs": []
    },
    {
      "cell_type": "markdown",
      "metadata": {
        "id": "zucrGH6xl0iA",
        "colab_type": "text"
      },
      "source": [
        "Copying datasets to another dataframe"
      ]
    },
    {
      "cell_type": "code",
      "metadata": {
        "id": "yGTRARf3jNgC",
        "colab_type": "code",
        "colab": {}
      },
      "source": [
        "station_data_dup = station_data_orig.copy()\n",
        "weather_data_dup = weather_data_orig.copy()\n",
        "trip_data_dup = trip_data_orig.copy()"
      ],
      "execution_count": 0,
      "outputs": []
    },
    {
      "cell_type": "markdown",
      "metadata": {
        "id": "fQRQxsZSKHdn",
        "colab_type": "text"
      },
      "source": [
        "Understanding  the **station** data by seeing the dataset head"
      ]
    },
    {
      "cell_type": "markdown",
      "metadata": {
        "id": "6j_eu6yZKT6v",
        "colab_type": "text"
      },
      "source": [
        "Understanding the **Weather** data by seeing the dataset head"
      ]
    },
    {
      "cell_type": "code",
      "metadata": {
        "id": "ZpEn_zYVELP8",
        "colab_type": "code",
        "outputId": "d77629c0-f890-400c-afe0-827afd5cd53e",
        "colab": {
          "base_uri": "https://localhost:8080/",
          "height": 258
        }
      },
      "source": [
        "weather_data_dup.head()"
      ],
      "execution_count": 5,
      "outputs": [
        {
          "output_type": "execute_result",
          "data": {
            "text/html": [
              "<div>\n",
              "<style scoped>\n",
              "    .dataframe tbody tr th:only-of-type {\n",
              "        vertical-align: middle;\n",
              "    }\n",
              "\n",
              "    .dataframe tbody tr th {\n",
              "        vertical-align: top;\n",
              "    }\n",
              "\n",
              "    .dataframe thead th {\n",
              "        text-align: right;\n",
              "    }\n",
              "</style>\n",
              "<table border=\"1\" class=\"dataframe\">\n",
              "  <thead>\n",
              "    <tr style=\"text-align: right;\">\n",
              "      <th></th>\n",
              "      <th>Date</th>\n",
              "      <th>Max TemperatureF</th>\n",
              "      <th>Mean TemperatureF</th>\n",
              "      <th>Min TemperatureF</th>\n",
              "      <th>Max Dew PointF</th>\n",
              "      <th>MeanDew PointF</th>\n",
              "      <th>Min DewpointF</th>\n",
              "      <th>Max Humidity</th>\n",
              "      <th>Mean Humidity</th>\n",
              "      <th>Min Humidity</th>\n",
              "      <th>Max Sea Level PressureIn</th>\n",
              "      <th>Mean Sea Level PressureIn</th>\n",
              "      <th>Min Sea Level PressureIn</th>\n",
              "      <th>Max VisibilityMiles</th>\n",
              "      <th>Mean VisibilityMiles</th>\n",
              "      <th>Min VisibilityMiles</th>\n",
              "      <th>Max Wind SpeedMPH</th>\n",
              "      <th>Mean Wind SpeedMPH</th>\n",
              "      <th>Max Gust SpeedMPH</th>\n",
              "      <th>PrecipitationIn</th>\n",
              "      <th>CloudCover</th>\n",
              "      <th>Events</th>\n",
              "      <th>WindDirDegrees</th>\n",
              "      <th>Zip</th>\n",
              "    </tr>\n",
              "  </thead>\n",
              "  <tbody>\n",
              "    <tr>\n",
              "      <th>0</th>\n",
              "      <td>01/09/2014</td>\n",
              "      <td>83.0</td>\n",
              "      <td>70.0</td>\n",
              "      <td>57.0</td>\n",
              "      <td>58.0</td>\n",
              "      <td>56.0</td>\n",
              "      <td>52.0</td>\n",
              "      <td>86.0</td>\n",
              "      <td>64.0</td>\n",
              "      <td>42.0</td>\n",
              "      <td>29.86</td>\n",
              "      <td>29.82</td>\n",
              "      <td>29.76</td>\n",
              "      <td>10.0</td>\n",
              "      <td>10.0</td>\n",
              "      <td>8.0</td>\n",
              "      <td>16.0</td>\n",
              "      <td>7.0</td>\n",
              "      <td>20.0</td>\n",
              "      <td>0.0</td>\n",
              "      <td>0.0</td>\n",
              "      <td>NaN</td>\n",
              "      <td>290.0</td>\n",
              "      <td>94107</td>\n",
              "    </tr>\n",
              "    <tr>\n",
              "      <th>1</th>\n",
              "      <td>02/09/2014</td>\n",
              "      <td>72.0</td>\n",
              "      <td>66.0</td>\n",
              "      <td>60.0</td>\n",
              "      <td>58.0</td>\n",
              "      <td>57.0</td>\n",
              "      <td>55.0</td>\n",
              "      <td>84.0</td>\n",
              "      <td>73.0</td>\n",
              "      <td>61.0</td>\n",
              "      <td>29.87</td>\n",
              "      <td>29.82</td>\n",
              "      <td>29.79</td>\n",
              "      <td>10.0</td>\n",
              "      <td>10.0</td>\n",
              "      <td>7.0</td>\n",
              "      <td>21.0</td>\n",
              "      <td>8.0</td>\n",
              "      <td>NaN</td>\n",
              "      <td>0.0</td>\n",
              "      <td>5.0</td>\n",
              "      <td>NaN</td>\n",
              "      <td>290.0</td>\n",
              "      <td>94107</td>\n",
              "    </tr>\n",
              "    <tr>\n",
              "      <th>2</th>\n",
              "      <td>03/09/2014</td>\n",
              "      <td>76.0</td>\n",
              "      <td>69.0</td>\n",
              "      <td>61.0</td>\n",
              "      <td>57.0</td>\n",
              "      <td>56.0</td>\n",
              "      <td>55.0</td>\n",
              "      <td>84.0</td>\n",
              "      <td>69.0</td>\n",
              "      <td>53.0</td>\n",
              "      <td>29.81</td>\n",
              "      <td>29.76</td>\n",
              "      <td>29.72</td>\n",
              "      <td>10.0</td>\n",
              "      <td>10.0</td>\n",
              "      <td>10.0</td>\n",
              "      <td>21.0</td>\n",
              "      <td>8.0</td>\n",
              "      <td>24.0</td>\n",
              "      <td>0.0</td>\n",
              "      <td>4.0</td>\n",
              "      <td>NaN</td>\n",
              "      <td>276.0</td>\n",
              "      <td>94107</td>\n",
              "    </tr>\n",
              "    <tr>\n",
              "      <th>3</th>\n",
              "      <td>04/09/2014</td>\n",
              "      <td>74.0</td>\n",
              "      <td>68.0</td>\n",
              "      <td>61.0</td>\n",
              "      <td>57.0</td>\n",
              "      <td>57.0</td>\n",
              "      <td>56.0</td>\n",
              "      <td>84.0</td>\n",
              "      <td>71.0</td>\n",
              "      <td>57.0</td>\n",
              "      <td>29.81</td>\n",
              "      <td>29.76</td>\n",
              "      <td>29.72</td>\n",
              "      <td>10.0</td>\n",
              "      <td>10.0</td>\n",
              "      <td>8.0</td>\n",
              "      <td>22.0</td>\n",
              "      <td>8.0</td>\n",
              "      <td>25.0</td>\n",
              "      <td>0.0</td>\n",
              "      <td>5.0</td>\n",
              "      <td>NaN</td>\n",
              "      <td>301.0</td>\n",
              "      <td>94107</td>\n",
              "    </tr>\n",
              "    <tr>\n",
              "      <th>4</th>\n",
              "      <td>05/09/2014</td>\n",
              "      <td>72.0</td>\n",
              "      <td>66.0</td>\n",
              "      <td>60.0</td>\n",
              "      <td>57.0</td>\n",
              "      <td>56.0</td>\n",
              "      <td>54.0</td>\n",
              "      <td>84.0</td>\n",
              "      <td>71.0</td>\n",
              "      <td>57.0</td>\n",
              "      <td>29.92</td>\n",
              "      <td>29.87</td>\n",
              "      <td>29.81</td>\n",
              "      <td>10.0</td>\n",
              "      <td>9.0</td>\n",
              "      <td>7.0</td>\n",
              "      <td>18.0</td>\n",
              "      <td>8.0</td>\n",
              "      <td>32.0</td>\n",
              "      <td>0.0</td>\n",
              "      <td>4.0</td>\n",
              "      <td>NaN</td>\n",
              "      <td>309.0</td>\n",
              "      <td>94107</td>\n",
              "    </tr>\n",
              "  </tbody>\n",
              "</table>\n",
              "</div>"
            ],
            "text/plain": [
              "         Date  Max TemperatureF  ...  WindDirDegrees    Zip\n",
              "0  01/09/2014              83.0  ...           290.0  94107\n",
              "1  02/09/2014              72.0  ...           290.0  94107\n",
              "2  03/09/2014              76.0  ...           276.0  94107\n",
              "3  04/09/2014              74.0  ...           301.0  94107\n",
              "4  05/09/2014              72.0  ...           309.0  94107\n",
              "\n",
              "[5 rows x 24 columns]"
            ]
          },
          "metadata": {
            "tags": []
          },
          "execution_count": 5
        }
      ]
    },
    {
      "cell_type": "markdown",
      "metadata": {
        "id": "VQGIWhWHKdG7",
        "colab_type": "text"
      },
      "source": [
        "Understanding the **Tripdata** data by seeing the dataset head"
      ]
    },
    {
      "cell_type": "code",
      "metadata": {
        "id": "e6REFkBFEawb",
        "colab_type": "code",
        "outputId": "0587878b-b70b-4294-a4f3-e2428a93fe31",
        "colab": {
          "base_uri": "https://localhost:8080/",
          "height": 204
        }
      },
      "source": [
        "trip_data_dup.head()"
      ],
      "execution_count": 6,
      "outputs": [
        {
          "output_type": "execute_result",
          "data": {
            "text/html": [
              "<div>\n",
              "<style scoped>\n",
              "    .dataframe tbody tr th:only-of-type {\n",
              "        vertical-align: middle;\n",
              "    }\n",
              "\n",
              "    .dataframe tbody tr th {\n",
              "        vertical-align: top;\n",
              "    }\n",
              "\n",
              "    .dataframe thead th {\n",
              "        text-align: right;\n",
              "    }\n",
              "</style>\n",
              "<table border=\"1\" class=\"dataframe\">\n",
              "  <thead>\n",
              "    <tr style=\"text-align: right;\">\n",
              "      <th></th>\n",
              "      <th>Trip ID</th>\n",
              "      <th>Start Date</th>\n",
              "      <th>Start Station</th>\n",
              "      <th>End Date</th>\n",
              "      <th>End Station</th>\n",
              "      <th>Subscriber Type</th>\n",
              "    </tr>\n",
              "  </thead>\n",
              "  <tbody>\n",
              "    <tr>\n",
              "      <th>0</th>\n",
              "      <td>913460</td>\n",
              "      <td>31/08/2015 23:26</td>\n",
              "      <td>50</td>\n",
              "      <td>31/08/2015 23:39</td>\n",
              "      <td>70</td>\n",
              "      <td>Subscriber</td>\n",
              "    </tr>\n",
              "    <tr>\n",
              "      <th>1</th>\n",
              "      <td>913459</td>\n",
              "      <td>31/08/2015 23:11</td>\n",
              "      <td>31</td>\n",
              "      <td>31/08/2015 23:28</td>\n",
              "      <td>27</td>\n",
              "      <td>Subscriber</td>\n",
              "    </tr>\n",
              "    <tr>\n",
              "      <th>2</th>\n",
              "      <td>913455</td>\n",
              "      <td>31/08/2015 23:13</td>\n",
              "      <td>47</td>\n",
              "      <td>31/08/2015 23:18</td>\n",
              "      <td>64</td>\n",
              "      <td>Subscriber</td>\n",
              "    </tr>\n",
              "    <tr>\n",
              "      <th>3</th>\n",
              "      <td>913454</td>\n",
              "      <td>31/08/2015 23:10</td>\n",
              "      <td>10</td>\n",
              "      <td>31/08/2015 23:17</td>\n",
              "      <td>8</td>\n",
              "      <td>Subscriber</td>\n",
              "    </tr>\n",
              "    <tr>\n",
              "      <th>4</th>\n",
              "      <td>913453</td>\n",
              "      <td>31/08/2015 23:09</td>\n",
              "      <td>51</td>\n",
              "      <td>31/08/2015 23:22</td>\n",
              "      <td>60</td>\n",
              "      <td>Customer</td>\n",
              "    </tr>\n",
              "  </tbody>\n",
              "</table>\n",
              "</div>"
            ],
            "text/plain": [
              "   Trip ID        Start Date  ...  End Station Subscriber Type\n",
              "0   913460  31/08/2015 23:26  ...           70      Subscriber\n",
              "1   913459  31/08/2015 23:11  ...           27      Subscriber\n",
              "2   913455  31/08/2015 23:13  ...           64      Subscriber\n",
              "3   913454  31/08/2015 23:10  ...            8      Subscriber\n",
              "4   913453  31/08/2015 23:09  ...           60        Customer\n",
              "\n",
              "[5 rows x 6 columns]"
            ]
          },
          "metadata": {
            "tags": []
          },
          "execution_count": 6
        }
      ]
    },
    {
      "cell_type": "markdown",
      "metadata": {
        "id": "kIDEKLFyl5Re",
        "colab_type": "text"
      },
      "source": [
        "#Assigning the station_id that is of interest"
      ]
    },
    {
      "cell_type": "code",
      "metadata": {
        "id": "Ow5qJRHFiHjB",
        "colab_type": "code",
        "colab": {}
      },
      "source": [
        "# Assigining the constants\n",
        "station_id = 47"
      ],
      "execution_count": 0,
      "outputs": []
    },
    {
      "cell_type": "markdown",
      "metadata": {
        "id": "nwcc1yRaEi9J",
        "colab_type": "text"
      },
      "source": [
        "##Defining functions to explore and modify dataset\n",
        "\n",
        "###The idea is to write a function such that the ETL approach would be standard to this type of data. \n",
        "\n",
        "The function preprocess_features_station is created for selecting columns and renaming specified changes station names as metnioned in the task. It takes input as station dataframe. "
      ]
    },
    {
      "cell_type": "code",
      "metadata": {
        "id": "aXy2mSCYkE5Y",
        "colab_type": "code",
        "colab": {}
      },
      "source": [
        "def preprocess_features_station(df):\n",
        "    '''Prepares input features\n",
        "    and for now it also drops \"Name\" column\n",
        "    and changes the \"moved station id\" as mentioned in the problem'''\n",
        "       \n",
        "    selected_features = df [[ \"Id\", \n",
        "                                          \"Dock Count\",\n",
        "                                          \"City\"]]\n",
        "    \n",
        "    processed_features_station = selected_features.copy()\n",
        "    #From the question it says some of the following stations are moved to the new numbers\n",
        "    number_mapping = { 23: 85 , 25 : 86, 49 : 87, 69 : 88, 72 : 90}\n",
        "\n",
        "    processed_features_station['Id']= processed_features_station ['Id'].replace(number_mapping)\n",
        "    print (\"shape of the station dataframe is :\",processed_features_station.shape )\n",
        "    \n",
        "    return processed_features_station"
      ],
      "execution_count": 0,
      "outputs": []
    },
    {
      "cell_type": "markdown",
      "metadata": {
        "id": "iV9Mwtt5xx2a",
        "colab_type": "text"
      },
      "source": [
        "###Processing function for weather dataset\n",
        "The data processing of weather contains  some null values and etc were we filter it\n"
      ]
    },
    {
      "cell_type": "code",
      "metadata": {
        "id": "mLFjKRE_yOVO",
        "colab_type": "code",
        "colab": {}
      },
      "source": [
        "def preprocess_features_weather(df):\n",
        "   \n",
        "       \n",
        "    selected_features = df \n",
        "    \n",
        "    processed_features_weather = selected_features.copy()\n",
        "    #Lets check for NaN values\n",
        "    total = weather_data_dup.isnull().sum().sort_values(ascending = False)\n",
        "    percentage = (weather_data_dup.isnull().sum()/weather_data_dup.isnull().count()).sort_values(ascending = False) *100\n",
        "    missing_data = pd.concat ([total,percentage], axis = 1, keys =  ['total', 'percentage'])\n",
        "    #print (missing_data)\n",
        "    #For the events column the total percentage of \"NaN\" is too high so lets drop that column\n",
        "    processed_features_weather.drop ('Events', axis = 1, inplace = True)\n",
        "    print (\"shape of the weather dataframe is :\",processed_features_weather.shape )\n",
        "    return processed_features_weather"
      ],
      "execution_count": 0,
      "outputs": []
    },
    {
      "cell_type": "markdown",
      "metadata": {
        "id": "5a7iTlbGzhgW",
        "colab_type": "text"
      },
      "source": [
        "###Processing function for trip data set\n"
      ]
    },
    {
      "cell_type": "code",
      "metadata": {
        "id": "AJwN7J3NznCB",
        "colab_type": "code",
        "colab": {}
      },
      "source": [
        "def preprocess_features_trip(df):\n",
        "    \n",
        "    selected_features = df \n",
        "    \n",
        "    processed_features_trip = selected_features.copy()\n",
        "    #The \"Trip ID\" column in this dataframe is just a sequentially generated random number, which won't be having impact on the prediction, for that reason it is dropped.\n",
        "    processed_features_trip.drop ('Trip ID', axis = 1, inplace = True)\n",
        "    #Replacing categorical values in column 'Subscriber Type' with 0 and 1\n",
        "    trip_data_dup['Subscriber Type'] = trip_data_dup['Subscriber Type'].replace('Subscriber', 1)\n",
        "    trip_data_dup['Subscriber Type'] = trip_data_dup['Subscriber Type'].replace('Customer', 0)\n",
        "    #Analysis of the data\n",
        "    #Calculating each trip duration and converting data into seconds\n",
        "    print (\"shape of the trip dataframe is :\",processed_features_trip.shape )\n",
        "    return processed_features_trip"
      ],
      "execution_count": 0,
      "outputs": []
    },
    {
      "cell_type": "markdown",
      "metadata": {
        "id": "lyxM-JG0iDYR",
        "colab_type": "text"
      },
      "source": [
        "#Analysis of the data\n"
      ]
    },
    {
      "cell_type": "markdown",
      "metadata": {
        "id": "5-2YQmqOMEV6",
        "colab_type": "text"
      },
      "source": [
        "####Analysis of the station data"
      ]
    },
    {
      "cell_type": "code",
      "metadata": {
        "id": "xITpAwINMPB7",
        "colab_type": "code",
        "outputId": "0b8a95bd-198c-41aa-8e26-48e218e2acbe",
        "colab": {
          "base_uri": "https://localhost:8080/",
          "height": 646
        }
      },
      "source": [
        "plt.figure()\n",
        "sns.countplot (x = \"City\", data = station_data_dup)\n",
        "plt.xlabel(\"City\", fontsize = 24)\n",
        "plt.ylabel (\"Count\", fontsize = 24)\n",
        "plt.title (\"Number of bike stations in each city\", fontsize = 32)\n",
        "plt.figure()\n",
        "sns.swarmplot (x = \"City\", y = \"Dock Count\", data = station_data_dup)\n",
        "plt.xlabel(\"City\", fontsize = 24)\n",
        "plt.ylabel (\"Dock Count\", fontsize = 24)\n",
        "plt.title (\"Number of Dock Counts each city\", fontsize = 32)"
      ],
      "execution_count": 11,
      "outputs": [
        {
          "output_type": "execute_result",
          "data": {
            "text/plain": [
              "Text(0.5, 1.0, 'Number of Dock Counts each city')"
            ]
          },
          "metadata": {
            "tags": []
          },
          "execution_count": 11
        },
        {
          "output_type": "display_data",
          "data": {
            "image/png": "[encoded data removed]",
            "text/plain": [
              "<Figure size 432x288 with 1 Axes>"
            ]
          },
          "metadata": {
            "tags": []
          }
        },
        {
          "output_type": "display_data",
          "data": {
            "image/png": "[encoded data removed]",
            "text/plain": [
              "<Figure size 432x288 with 1 Axes>"
            ]
          },
          "metadata": {
            "tags": []
          }
        }
      ]
    },
    {
      "cell_type": "markdown",
      "metadata": {
        "id": "VbMAHT4KMN8C",
        "colab_type": "text"
      },
      "source": [
        "###Calculating each trip duration and converting data into seconds"
      ]
    },
    {
      "cell_type": "code",
      "metadata": {
        "id": "ysdx1AaZ0aFr",
        "colab_type": "code",
        "outputId": "0fd81c71-5637-4fb8-b42f-7e43ab0fc9e6",
        "colab": {
          "base_uri": "https://localhost:8080/",
          "height": 349
        }
      },
      "source": [
        "# For knowing the trip duration we have to subtract the time between \"Start Station\" and \"End Station\". For doing that we should first convert those column into pandas datetime format\n",
        "trip_data_dup[['Start Date', 'End Date']] = trip_data_dup[['Start Date', 'End Date']].apply(pd.to_datetime, errors= 'coerce')\n",
        "#Add trip duration intervals\n",
        "\n",
        "trip_data_dup['time'] = trip_data_dup['End Date']-trip_data_dup['Start Date']\n",
        "# convert from timedelta type to seconds\n",
        "trip_data_dup['time_seconds'] = pd.Series(trip_data_dup['time'], dtype='int64').abs() / (1000*1000*1000)\n",
        "\n",
        "#PLOTTING THE TRI DURATION#\n",
        "\n",
        "(trip_data_dup['time_seconds']/60).hist(bins=40, range=(0, 60), xlabelsize=20, ylabelsize=20) # converting the data from seconds to minutes\n",
        "plt.xlabel('Time in minutes', fontsize=24)\n",
        "plt.ylabel('Number of trips', fontsize=24)\n",
        "plt.title('Trip Duration', fontsize=32)"
      ],
      "execution_count": 12,
      "outputs": [
        {
          "output_type": "execute_result",
          "data": {
            "text/plain": [
              "Text(0.5, 1.0, 'Trip Duration')"
            ]
          },
          "metadata": {
            "tags": []
          },
          "execution_count": 12
        },
        {
          "output_type": "display_data",
          "data": {
            "image/png": "[encoded data removed]",
            "text/plain": [
              "<Figure size 432x288 with 1 Axes>"
            ]
          },
          "metadata": {
            "tags": []
          }
        }
      ]
    },
    {
      "cell_type": "code",
      "metadata": {
        "id": "XfvCVJRGOXg3",
        "colab_type": "code",
        "outputId": "2ce23faf-023c-4be1-f854-a14cad0d067d",
        "colab": {
          "base_uri": "https://localhost:8080/",
          "height": 204
        }
      },
      "source": [
        "trip_data_dup.head()"
      ],
      "execution_count": 13,
      "outputs": [
        {
          "output_type": "execute_result",
          "data": {
            "text/html": [
              "<div>\n",
              "<style scoped>\n",
              "    .dataframe tbody tr th:only-of-type {\n",
              "        vertical-align: middle;\n",
              "    }\n",
              "\n",
              "    .dataframe tbody tr th {\n",
              "        vertical-align: top;\n",
              "    }\n",
              "\n",
              "    .dataframe thead th {\n",
              "        text-align: right;\n",
              "    }\n",
              "</style>\n",
              "<table border=\"1\" class=\"dataframe\">\n",
              "  <thead>\n",
              "    <tr style=\"text-align: right;\">\n",
              "      <th></th>\n",
              "      <th>Trip ID</th>\n",
              "      <th>Start Date</th>\n",
              "      <th>Start Station</th>\n",
              "      <th>End Date</th>\n",
              "      <th>End Station</th>\n",
              "      <th>Subscriber Type</th>\n",
              "      <th>time</th>\n",
              "      <th>time_seconds</th>\n",
              "    </tr>\n",
              "  </thead>\n",
              "  <tbody>\n",
              "    <tr>\n",
              "      <th>0</th>\n",
              "      <td>913460</td>\n",
              "      <td>2015-08-31 23:26:00</td>\n",
              "      <td>50</td>\n",
              "      <td>2015-08-31 23:39:00</td>\n",
              "      <td>70</td>\n",
              "      <td>Subscriber</td>\n",
              "      <td>00:13:00</td>\n",
              "      <td>780.0</td>\n",
              "    </tr>\n",
              "    <tr>\n",
              "      <th>1</th>\n",
              "      <td>913459</td>\n",
              "      <td>2015-08-31 23:11:00</td>\n",
              "      <td>31</td>\n",
              "      <td>2015-08-31 23:28:00</td>\n",
              "      <td>27</td>\n",
              "      <td>Subscriber</td>\n",
              "      <td>00:17:00</td>\n",
              "      <td>1020.0</td>\n",
              "    </tr>\n",
              "    <tr>\n",
              "      <th>2</th>\n",
              "      <td>913455</td>\n",
              "      <td>2015-08-31 23:13:00</td>\n",
              "      <td>47</td>\n",
              "      <td>2015-08-31 23:18:00</td>\n",
              "      <td>64</td>\n",
              "      <td>Subscriber</td>\n",
              "      <td>00:05:00</td>\n",
              "      <td>300.0</td>\n",
              "    </tr>\n",
              "    <tr>\n",
              "      <th>3</th>\n",
              "      <td>913454</td>\n",
              "      <td>2015-08-31 23:10:00</td>\n",
              "      <td>10</td>\n",
              "      <td>2015-08-31 23:17:00</td>\n",
              "      <td>8</td>\n",
              "      <td>Subscriber</td>\n",
              "      <td>00:07:00</td>\n",
              "      <td>420.0</td>\n",
              "    </tr>\n",
              "    <tr>\n",
              "      <th>4</th>\n",
              "      <td>913453</td>\n",
              "      <td>2015-08-31 23:09:00</td>\n",
              "      <td>51</td>\n",
              "      <td>2015-08-31 23:22:00</td>\n",
              "      <td>60</td>\n",
              "      <td>Customer</td>\n",
              "      <td>00:13:00</td>\n",
              "      <td>780.0</td>\n",
              "    </tr>\n",
              "  </tbody>\n",
              "</table>\n",
              "</div>"
            ],
            "text/plain": [
              "   Trip ID          Start Date  ...     time time_seconds\n",
              "0   913460 2015-08-31 23:26:00  ... 00:13:00        780.0\n",
              "1   913459 2015-08-31 23:11:00  ... 00:17:00       1020.0\n",
              "2   913455 2015-08-31 23:13:00  ... 00:05:00        300.0\n",
              "3   913454 2015-08-31 23:10:00  ... 00:07:00        420.0\n",
              "4   913453 2015-08-31 23:09:00  ... 00:13:00        780.0\n",
              "\n",
              "[5 rows x 8 columns]"
            ]
          },
          "metadata": {
            "tags": []
          },
          "execution_count": 13
        }
      ]
    },
    {
      "cell_type": "markdown",
      "metadata": {
        "id": "SMltzf3Knpzq",
        "colab_type": "text"
      },
      "source": [
        "Checking the minimum and maximum trip durations"
      ]
    },
    {
      "cell_type": "code",
      "metadata": {
        "id": "HqfdxsI_iX2X",
        "colab_type": "code",
        "outputId": "a2b9b7bd-f837-482f-ad10-f9107edc10d7",
        "colab": {
          "base_uri": "https://localhost:8080/",
          "height": 34
        }
      },
      "source": [
        "### Do people return to same station often?\n",
        "self_return = trip_data_dup[trip_data_dup['Start Station'].eq(trip_data_dup['End Station'])]\n",
        "print(\"%d %% of the trips go back to same stations\" % (len(self_return)/len(trip_data_dup)*100,))\n",
        "\n",
        "#trip_data_dup['time_seconds'].min()"
      ],
      "execution_count": 14,
      "outputs": [
        {
          "output_type": "stream",
          "text": [
            "2 % of the trips go back to same stations\n"
          ],
          "name": "stdout"
        }
      ]
    },
    {
      "cell_type": "markdown",
      "metadata": {
        "id": "dbIoEolvnzdS",
        "colab_type": "text"
      },
      "source": [
        "Checking the errors in trip data by looking for the trips which are ending at same station under 2 minutes time. These may occur due to possibility of errors"
      ]
    },
    {
      "cell_type": "code",
      "metadata": {
        "id": "pDMDw62Mn0un",
        "colab_type": "code",
        "outputId": "0da4021d-6c32-4f3b-ec34-11a8b623e4f1",
        "colab": {
          "base_uri": "https://localhost:8080/",
          "height": 51
        }
      },
      "source": [
        "minimum_duration = 2*60\n",
        "own_trips = trip_data_dup[trip_data_dup['Start Station'] == (trip_data_dup['End Station'])]\n",
        "veryshort = own_trips[own_trips['time_seconds'] < minimum_duration]\n",
        "# invalid = trip_data_dup[own_trips['Duration Seconds'] < minimum_duration] \n",
        "print ('Length of very hsort :',len(veryshort))\n",
        "print ('lenght of big:', len(trip_data_dup))"
      ],
      "execution_count": 15,
      "outputs": [
        {
          "output_type": "stream",
          "text": [
            "Length of very hsort : 433\n",
            "lenght of big: 354152\n"
          ],
          "name": "stdout"
        }
      ]
    },
    {
      "cell_type": "markdown",
      "metadata": {
        "id": "zGdXgaYtibKA",
        "colab_type": "text"
      },
      "source": [
        "Plotting the trip duration"
      ]
    },
    {
      "cell_type": "code",
      "metadata": {
        "id": "nW-iOdHBicXR",
        "colab_type": "code",
        "outputId": "b05c0276-5bfa-4d61-9255-99c2b03e4d4d",
        "colab": {
          "base_uri": "https://localhost:8080/",
          "height": 153
        }
      },
      "source": [
        "valid_trips = trip_data_dup['time_seconds']>minimum_duration\n",
        "valid_trip_data_dup = trip_data_dup[valid_trips]\n",
        "len(valid_trip_data_dup)\n",
        "\n",
        "# Lets see the peak hours\n",
        "valid_trip_data_dup_hour = valid_trip_data_dup.copy()\n",
        "valid_trip_data_dup_hour['weekday'] = valid_trip_data_dup_hour['Start Date'].dt.weekday_name\n",
        "valid_trip_data_dup_hour['hour'] = valid_trip_data_dup_hour['Start Date'].dt.hour\n",
        "valid_trip_data_dup_hour['weekday'].value_counts()"
      ],
      "execution_count": 16,
      "outputs": [
        {
          "output_type": "execute_result",
          "data": {
            "text/plain": [
              "Tuesday      63252\n",
              "Friday       57652\n",
              "Wednesday    57562\n",
              "Monday       54346\n",
              "Thursday     53582\n",
              "Sunday       33318\n",
              "Saturday     27408\n",
              "Name: weekday, dtype: int64"
            ]
          },
          "metadata": {
            "tags": []
          },
          "execution_count": 16
        }
      ]
    },
    {
      "cell_type": "markdown",
      "metadata": {
        "id": "YhB9jSfcoMfz",
        "colab_type": "text"
      },
      "source": [
        "Differentiating the Weekday and Weekend rides "
      ]
    },
    {
      "cell_type": "code",
      "metadata": {
        "id": "QWo5x5xOigRu",
        "colab_type": "code",
        "outputId": "5501e80f-5648-4e7e-8ddc-88b292a7facd",
        "colab": {
          "base_uri": "https://localhost:8080/",
          "height": 646
        }
      },
      "source": [
        "valid_trip_data_dup_hour_weekend =  pd.DataFrame (valid_trip_data_dup_hour[(valid_trip_data_dup_hour['weekday'] == 'Saturday') | (valid_trip_data_dup_hour['weekday'] == 'Sunday')])\n",
        "valid_trip_data_dup_hour_workday = pd.DataFrame (valid_trip_data_dup_hour[(valid_trip_data_dup_hour['weekday'] != 'Saturday') & (valid_trip_data_dup_hour['weekday'] != 'Sunday')])\n",
        "\n",
        "len(valid_trip_data_dup_hour_weekend)\n",
        "plt.figure()\n",
        "sns.distplot (valid_trip_data_dup_hour_weekend['hour'])\n",
        "plt.xlabel (\"hour\", fontsize = 24)\n",
        "plt.title (\"Rides per hour during Weekends\", fontsize = 32)\n",
        "plt.figure()\n",
        "sns.distplot (valid_trip_data_dup_hour_workday['hour'])\n",
        "plt.xlabel (\"hour\", fontsize = 24)\n",
        "plt.title (\"Rides per hour during Workday\", fontsize = 32)"
      ],
      "execution_count": 17,
      "outputs": [
        {
          "output_type": "execute_result",
          "data": {
            "text/plain": [
              "Text(0.5, 1.0, 'Rides per hour during Workday')"
            ]
          },
          "metadata": {
            "tags": []
          },
          "execution_count": 17
        },
        {
          "output_type": "display_data",
          "data": {
            "image/png": "[encoded data removed]",
            "text/plain": [
              "<Figure size 432x288 with 1 Axes>"
            ]
          },
          "metadata": {
            "tags": []
          }
        },
        {
          "output_type": "display_data",
          "data": {
            "image/png": "[encoded data removed]",
            "text/plain": [
              "<Figure size 432x288 with 1 Axes>"
            ]
          },
          "metadata": {
            "tags": []
          }
        }
      ]
    },
    {
      "cell_type": "markdown",
      "metadata": {
        "id": "QE_4nUuJ5dLb",
        "colab_type": "text"
      },
      "source": [
        "#Joining the dataframes\n",
        "\n",
        "First merging Station and weather dataframes\n",
        "\n",
        "For doing so there needs to be a common column between two dataframes. That condition is satisfied by mapping column \"Zip\" in weather dataframe to \"City\" . Thus there is a common column between two dataframes and merging is perfromed on the same"
      ]
    },
    {
      "cell_type": "markdown",
      "metadata": {
        "id": "dysQlnram5kg",
        "colab_type": "text"
      },
      "source": [
        "###Merging of station and weather dataset\n",
        "\n",
        "1.   List item\n",
        "2.   List item\n",
        "\n"
      ]
    },
    {
      "cell_type": "code",
      "metadata": {
        "id": "0paXquhW4lgx",
        "colab_type": "code",
        "colab": {}
      },
      "source": [
        "def merge_weather_station (station, weather):\n",
        "  weather.loc [weather['Zip'] == 94063, 'Zip'] = weather['Zip'].replace (94063 , 'Redwood City')    #Redwood_city_weather['Zip'].replace (94063, 'Redwood City')\n",
        "  weather.loc [weather['Zip'] == 94107, 'Zip'] = weather['Zip'].replace (94107 , 'San Francisco')# Mountain_view_weather['Zip'] =  Mountain_view_weather['Zip'].replace (94041, 'Mountain View')\n",
        "  weather.loc [weather['Zip'] == 94041, 'Zip'] = weather['Zip'].replace (94041 , 'Mountain View')# San_Jose_weather['Zip'] =  San_Jose_weather['Zip'].replace (95113, 'San Jose')\n",
        "  weather.loc [weather['Zip'] == 95113, 'Zip'] = weather['Zip'].replace (95113 , 'San Jose')# Palo_Alto_weather['Zip'] =  Palo_Alto_weather['Zip'].replace (94301, 'Palo Alto')\n",
        "  weather.loc [weather['Zip'] == 94301, 'Zip'] = weather['Zip'].replace (94301 , 'Palo Alto')\n",
        "  weather.rename (columns = { \"Zip\" : \"City\"} , inplace = True) # Renaming the \"zip\" column as \"City\" for merging dataframes \n",
        "  weather_station = weather.merge(station) # Merging two dataframes\n",
        "  print (weather_station.shape)\n",
        "  return weather_station"
      ],
      "execution_count": 0,
      "outputs": []
    },
    {
      "cell_type": "code",
      "metadata": {
        "id": "iQ7_k6IWfOLh",
        "colab_type": "code",
        "outputId": "cc5c72e0-bf36-4cfe-c430-d8f5f5b69dad",
        "colab": {
          "base_uri": "https://localhost:8080/",
          "height": 85
        }
      },
      "source": [
        "station = preprocess_features_station (station_data_dup)\n",
        "weather = preprocess_features_weather(weather_data_dup)\n",
        "trip = preprocess_features_trip(trip_data_dup)\n",
        "weather_station_dup = merge_weather_station(station, weather)"
      ],
      "execution_count": 19,
      "outputs": [
        {
          "output_type": "stream",
          "text": [
            "shape of the station dataframe is : (76, 3)\n",
            "shape of the weather dataframe is : (1825, 23)\n",
            "shape of the trip dataframe is : (354152, 7)\n",
            "(27740, 25)\n"
          ],
          "name": "stdout"
        }
      ]
    },
    {
      "cell_type": "code",
      "metadata": {
        "id": "woHVb-qT3Yyc",
        "colab_type": "code",
        "colab": {}
      },
      "source": [
        "# Saving the weather_station_dup for pickle\n",
        "pickle_out = open(\"/content/drive/My Drive/Data/Bikes_data/data/weather_station_dup.pickle\", \"wb\")\n",
        "pickle.dump (weather_station_dup, pickle_out)\n",
        "pickle_out.close()"
      ],
      "execution_count": 0,
      "outputs": []
    },
    {
      "cell_type": "markdown",
      "metadata": {
        "id": "q_bcBRF0Lpp2",
        "colab_type": "text"
      },
      "source": [
        "###Trip dataset manipulation, because we have to get the net change in bikes at the desired station"
      ]
    },
    {
      "cell_type": "code",
      "metadata": {
        "id": "s5J2J4NzLhGe",
        "colab_type": "code",
        "colab": {}
      },
      "source": [
        "def number_of_bikes_station_id (station_id):\n",
        "        trip_data_dup_index = trip_data_orig.copy() # copying the dataframe\n",
        "        trip_data_dup_index['Start Date'] = pd.to_datetime (trip_data_dup_index['Start Date'])\n",
        "        trip_data_dup_index['End Date'] = pd.to_datetime (trip_data_dup_index['End Date'])\n",
        "        #trip_data_dup_index.drop ('Trip ID', axis = 1, inplace = True) # droping the column \\\"TripId\\\" because it doesnt give much information\n",
        "        trip_data_dup_index.set_index ('Start Date', inplace = True) # setting the index as \\\"Start date\\\" for the column\\n\",\n",
        "        start_station = trip_data_dup_index[trip_data_dup_index[\"Start Station\"]==station_id].resample('1H').count()\n",
        "        #\"#start_station.reset_index (inplace = True)\\n\",\n",
        "        #print (start_station['Start Station'].head(10))\\n\",\n",
        "        end_station = trip_data_dup_index[trip_data_dup_index[\"End Station\"]==station_id].resample('1H').count()\n",
        "        #end_station.reset_index (inplace = True)\\n\",\n",
        "        #print(end_station['End Station'].head(10))\\n\",\n",
        "        balance_station = pd.concat ([start_station['Start Station'],end_station['End Station']] , axis =1)\n",
        "        print (balance_station)\n",
        "        balance_station.fillna(value = 0, inplace = True)\n",
        "        #balance_station.head(10)\\n\",\n",
        "        balance_station['net_change_bikes']= balance_station['End Station']-balance_station['Start Station']\n",
        "        balance_station['total_bikes_change'] = balance_station['net_change_bikes'].cumsum()\n",
        "        balance_station['total_bikes_pct_change'] = balance_station['total_bikes_change'].pct_change()\n",
        "        balance_station.replace ([np.inf, -np.inf], np.nan , inplace = True)\n",
        "        \n",
        "        #Dock_count = station_data[station_data['Id'] == station_id]['Dock Count']\n",
        "        #    Dock_count = Dock_count.values\\n\",\n",
        "        #     docks = no_of_bikes+Dock_count\\n\",\n",
        "        #     print (docks.min(), docks.max())\\n\",\n",
        "        return balance_station"
      ],
      "execution_count": 0,
      "outputs": []
    },
    {
      "cell_type": "markdown",
      "metadata": {
        "id": "GVwRkdmAmypD",
        "colab_type": "text"
      },
      "source": [
        "##Merging of weather_station with trip dataset"
      ]
    },
    {
      "cell_type": "code",
      "metadata": {
        "id": "gi2sgbFAL1nz",
        "colab_type": "code",
        "colab": {}
      },
      "source": [
        "def trip_weather_station_merge_ID(station_id):\n",
        "  trip_start_end_station = number_of_bikes_station_id (station_id)\n",
        "  trip_start_end_station.reset_index(inplace = True) #Remove the index from this\n",
        "  trip_start_end_station[\"Date\"] = trip_start_end_station[\"Start Date\"].dt.date # creating a new column of Date\n",
        "  trip_start_end_station.head()\n",
        "  trip_start_end_station['Date']= pd.to_datetime (trip_start_end_station['Date']) # Converting that column of Date into pandas date format \n",
        "  weather_station = pickle.load (open(\"/content/drive/My Drive/Data/Bikes_data/data/weather_station_dup.pickle\", \"rb\")) # Loading the data of weather_station merger dataframe with pickle\n",
        "  weather_station['Date']= pd.to_datetime(weather_station['Date'])  # Changing the weather dataframe \"Date\" column into datetime so that we can merge with start_end_station\n",
        "  weather_station_id = weather_station[weather_station[\"Id\"] == station_id] # Taking only the values of selected station id\n",
        "  #weather_station_id = weather_station.copy()\n",
        "  weather_station_id.fillna(method = 'ffill', inplace = True)\n",
        "  print (\"Weather_station_id shape is\" , weather_station_id.shape)\n",
        "  print (\"start_end_station shape is\" , trip_start_end_station.shape)\n",
        "  trip_start_end_station.reset_index( inplace = True)\n",
        "  weather_station_id.reset_index ( inplace = True)\n",
        "  trip_weather_station_ID =pd.merge (trip_start_end_station, weather_station_id, on = \"Date\", how = 'outer')\n",
        "  print (\"The number of rows of the merger should be same as start_end_station length of rows :\" ,trip_weather_station_ID.shape)\n",
        "  trip_weather_station_ID.fillna(method = 'ffill', inplace = True)\n",
        "  return trip_weather_station_ID\n",
        "  "
      ],
      "execution_count": 0,
      "outputs": []
    },
    {
      "cell_type": "code",
      "metadata": {
        "id": "wwO6QYZgYKzt",
        "colab_type": "code",
        "colab": {}
      },
      "source": [
        "trip_weather_station_merge = trip_weather_station_merge_ID(station_id)"
      ],
      "execution_count": 0,
      "outputs": []
    },
    {
      "cell_type": "markdown",
      "metadata": {
        "id": "4mfHAib7p1HF",
        "colab_type": "text"
      },
      "source": [
        "##Clustering the stations connectivity\n",
        "\n",
        "Clustering technique can be applied to get the connectivity between the stations"
      ]
    },
    {
      "cell_type": "code",
      "metadata": {
        "id": "nv-_gNj4p5tv",
        "colab_type": "code",
        "outputId": "510a7754-55e8-4439-ddb0-884b4bb32478",
        "colab": {
          "base_uri": "https://localhost:8080/",
          "height": 119
        }
      },
      "source": [
        "outbound = pd.crosstab (trip_data_dup['Start Station'], trip_data_dup['End Station'])\n",
        "inbound = pd.crosstab (trip_data_dup['End Station'], trip_data_dup['Start Station'])\n",
        "connectivity = inbound + outbound\n",
        "connectivity.index\n",
        "#connectivity[connectivity['Start Station']==2]"
      ],
      "execution_count": 27,
      "outputs": [
        {
          "output_type": "execute_result",
          "data": {
            "text/plain": [
              "Int64Index([ 2,  3,  4,  5,  6,  7,  8,  9, 10, 11, 12, 13, 14, 16, 21, 22, 23,\n",
              "            24, 25, 26, 27, 28, 29, 30, 31, 32, 33, 34, 35, 36, 37, 38, 39, 41,\n",
              "            42, 45, 46, 47, 48, 49, 50, 51, 54, 55, 56, 57, 58, 59, 60, 61, 62,\n",
              "            63, 64, 65, 66, 67, 68, 69, 70, 71, 72, 73, 74, 75, 76, 77, 80, 82,\n",
              "            83, 84, 85, 86, 87, 88, 89, 90],\n",
              "           dtype='int64', name='End Station')"
            ]
          },
          "metadata": {
            "tags": []
          },
          "execution_count": 27
        }
      ]
    },
    {
      "cell_type": "code",
      "metadata": {
        "id": "IPez_-m8-fa2",
        "colab_type": "code",
        "colab": {}
      },
      "source": [
        "# Save the data to pickle\n",
        "pickle_out = open (\"/content/drive/My Drive/Data/Bikes_data/data/trip_weather_station_merge.pickle\", \"wb\")\n",
        "pickle.dump (trip_weather_station_merge, pickle_out)\n",
        "pickle_out.close()\n",
        "\n"
      ],
      "execution_count": 0,
      "outputs": []
    }
  ]
}