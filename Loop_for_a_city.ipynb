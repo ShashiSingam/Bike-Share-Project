{
  "nbformat": 4,
  "nbformat_minor": 0,
  "metadata": {
    "colab": {
      "name": "Copy of Loop_for_a_city.ipynb",
      "version": "0.3.2",
      "provenance": [],
      "collapsed_sections": []
    },
    "kernelspec": {
      "name": "python3",
      "display_name": "Python 3"
    },
    "accelerator": "GPU"
  },
  "cells": [
    {
      "metadata": {
        "id": "CrZPu9MWdi5U",
        "colab_type": "code",
        "colab": {}
      },
      "cell_type": "code",
      "source": [
        "import pandas as pd\n",
        "import numpy as np\n",
        "import matplotlib.pyplot as plt\n",
        "import pickle\n",
        "import seaborn as sns\n",
        "import datetime\n",
        "# External dependencies\n",
        "# pip install geopy graphviz folium\n",
        "import folium\n",
        "from sklearn import preprocessing\n",
        "from sklearn.preprocessing import MinMaxScaler\n",
        "from sklearn.linear_model import LinearRegression\n",
        "from sklearn.model_selection import train_test_split\n",
        "\n",
        "#Creating neural network\n",
        "\n",
        "import tensorflow as tf\n",
        "from tensorflow.keras.models import Sequential\n",
        "from tensorflow.keras.layers import Dense, Dropout, Input, GRU, Embedding, CuDNNLSTM, BatchNormalization\n",
        "from tensorflow.python.keras.optimizers import RMSprop\n",
        "from tensorflow.python.keras.callbacks import TensorBoard"
      ],
      "execution_count": 0,
      "outputs": []
    },
    {
      "metadata": {
        "id": "YbXsqSqZeWWx",
        "colab_type": "code",
        "outputId": "ae7c2422-e33b-44bc-bf56-963ea14c2f97",
        "colab": {
          "base_uri": "https://localhost:8080/",
          "height": 34
        }
      },
      "cell_type": "code",
      "source": [
        "from google.colab import drive\n",
        "drive.mount('/content/drive/')"
      ],
      "execution_count": 0,
      "outputs": [
        {
          "output_type": "stream",
          "text": [
            "Drive already mounted at /content/drive/; to attempt to forcibly remount, call drive.mount(\"/content/drive/\", force_remount=True).\n"
          ],
          "name": "stdout"
        }
      ]
    },
    {
      "metadata": {
        "id": "XqVDIQjIeaHy",
        "colab_type": "code",
        "colab": {}
      },
      "cell_type": "code",
      "source": [
        "trip_weather_station_ID = pickle.load(open(\"/content/drive/My Drive/Data/Bikes_data/data/trip_weather_station_ID.pickle\", \"rb\"))\n",
        "\n",
        "weather_station_dup = pickle.load(open(\"/content/drive/My Drive/Data/Bikes_data/data/weather_station_dup.pickle\", \"rb\"))\n",
        "station_data_orig = pd.read_csv(\"/content/drive/My Drive/Data/Bikes_data/data/station_data.csv\")\n",
        "trip_data_orig = pd.read_csv('/content/drive/My Drive/Data/Bikes_data/data/trip_data.csv')"
      ],
      "execution_count": 0,
      "outputs": []
    },
    {
      "metadata": {
        "id": "9FXUoIwWgLh1",
        "colab_type": "code",
        "colab": {}
      },
      "cell_type": "code",
      "source": [
        "station_data_dup = station_data_orig.copy()\n",
        "trip_data_dup = trip_data_orig.copy()"
      ],
      "execution_count": 0,
      "outputs": []
    },
    {
      "metadata": {
        "id": "ToWqUexuhnos",
        "colab_type": "code",
        "outputId": "d4b8241a-74fb-4f68-b6d7-6a5b1068cd97",
        "colab": {
          "base_uri": "https://localhost:8080/",
          "height": 123
        }
      },
      "cell_type": "code",
      "source": [
        "station_data_dup.City.value_counts()"
      ],
      "execution_count": 0,
      "outputs": [
        {
          "output_type": "execute_result",
          "data": {
            "text/plain": [
              "San Francisco    39\n",
              "San Jose         16\n",
              "Redwood City      9\n",
              "Mountain View     7\n",
              "Palo Alto         5\n",
              "Name: City, dtype: int64"
            ]
          },
          "metadata": {
            "tags": []
          },
          "execution_count": 22
        }
      ]
    },
    {
      "metadata": {
        "id": "wRui-8cTrt03",
        "colab_type": "text"
      },
      "cell_type": "markdown",
      "source": [
        "#Name the city of interest to check the bike availability"
      ]
    },
    {
      "metadata": {
        "id": "rRZy0aNlgS0F",
        "colab_type": "code",
        "colab": {}
      },
      "cell_type": "code",
      "source": [
        "City = 'Redwood City'\n"
      ],
      "execution_count": 0,
      "outputs": []
    },
    {
      "metadata": {
        "id": "Ck28egLvggkU",
        "colab_type": "code",
        "colab": {}
      },
      "cell_type": "code",
      "source": [
        "map_city = station_data_dup[station_data_dup['City'] == City]\n"
      ],
      "execution_count": 0,
      "outputs": []
    },
    {
      "metadata": {
        "id": "LhvhKJAOgkgc",
        "colab_type": "code",
        "outputId": "65c4b1a8-9c95-4262-861a-fdb6a362691f",
        "colab": {
          "base_uri": "https://localhost:8080/",
          "height": 4816
        }
      },
      "cell_type": "code",
      "source": [
        "net_change_bikes_result = []\n",
        "for station_id in map_city['Id']:\n",
        "  def number_of_bikes_station_id (station_id):\n",
        "        trip_data_dup_index = trip_data_orig.copy() # copying the dataframe\n",
        "        trip_data_dup_index['Start Date'] = pd.to_datetime (trip_data_dup_index['Start Date'])\n",
        "        trip_data_dup_index['End Date'] = pd.to_datetime (trip_data_dup_index['End Date'])\n",
        "        #trip_data_dup_index.drop ('Trip ID', axis = 1, inplace = True) # droping the column \\\"TripId\\\" because it doesnt give much information\n",
        "        trip_data_dup_index.set_index ('Start Date', inplace = True) # setting the index as \\\"Start date\\\" for the column\\n\",\n",
        "        start_station = trip_data_dup_index[trip_data_dup_index[\"Start Station\"]==station_id].resample('1H').count()\n",
        "        #\"#start_station.reset_index (inplace = True)\\n\",\n",
        "        #print (start_station['Start Station'].head(10))\\n\",\n",
        "        end_station = trip_data_dup_index[trip_data_dup_index[\"End Station\"]==station_id].resample('1H').count()\n",
        "        #end_station.reset_index (inplace = True)\\n\",\n",
        "        #print(end_station['End Station'].head(10))\\n\",\n",
        "        balance_station = pd.concat ([start_station['Start Station'],end_station['End Station']] , axis =1)\n",
        "        balance_station.fillna(value = 0, inplace = True)\n",
        "        #balance_station.head(10)\\n\",\n",
        "        balance_station['net_change_bikes']= balance_station['End Station']-balance_station['Start Station']\n",
        "        balance_station['total_bikes_change'] = balance_station['net_change_bikes'].cumsum()\n",
        "        balance_station['total_bikes_pct_change'] = balance_station['total_bikes_change'].pct_change()\n",
        "        balance_station.replace ([np.inf, -np.inf], np.nan , inplace = True)\n",
        "        \n",
        "        #Dock_count = station_data[station_data['Id'] == station_id]['Dock Count']\n",
        "        #    Dock_count = Dock_count.values\\n\",\n",
        "        #     docks = no_of_bikes+Dock_count\\n\",\n",
        "        #     print (docks.min(), docks.max())\\n\",\n",
        "        return balance_station\n",
        "  def trip_weather_station_merge_ID(station_id):\n",
        "        trip_start_end_station = number_of_bikes_station_id (station_id)\n",
        "        trip_start_end_station.reset_index(inplace = True) #Remove the index from this\n",
        "        trip_start_end_station[\"Date\"] = trip_start_end_station[\"Start Date\"].dt.date # creating a new column of Date\n",
        "        trip_start_end_station.head()\n",
        "        trip_start_end_station['Date']= pd.to_datetime (trip_start_end_station['Date']) # Converting that column of Date into pandas date format \n",
        "        weather_station = pickle.load (open(\"/content/drive/My Drive/Data/Bikes_data/data/weather_station_dup.pickle\", \"rb\")) # Loading the data of weather_station merger dataframe with pickle\n",
        "        weather_station['Date']= pd.to_datetime(weather_station['Date'])  # Changing the weather dataframe \"Date\" column into datetime so that we can merge with start_end_station\n",
        "        weather_station_id = weather_station[weather_station[\"Id\"] == station_id] # Taking only the values of selected station id\n",
        "        #weather_station_id = weather_station.copy()\n",
        "        weather_station_id.fillna(method = 'ffill', inplace = True)\n",
        "        print (\"Weather_station_id shape is\" , weather_station_id.shape)\n",
        "        print (\"start_end_station shape is\" , trip_start_end_station.shape)\n",
        "        trip_start_end_station.reset_index( inplace = True)\n",
        "        weather_station_id.reset_index ( inplace = True)\n",
        "        trip_weather_station_ID =pd.merge (trip_start_end_station, weather_station_id, on = \"Date\", how = 'outer')\n",
        "        print (\"The number of rows of the merger should be same as start_end_station length of rows :\" ,trip_weather_station_ID.shape)\n",
        "        trip_weather_station_ID.fillna(method = 'ffill', inplace = True)\n",
        "        return trip_weather_station_ID\n",
        "  trip_weather_station_merge = trip_weather_station_merge_ID(station_id)\n",
        "  #Creating time coumn\n",
        "  trip_weather_station_ID['Time'] = trip_weather_station_ID['Start Date'].dt.time   # Adding \"Time\" column to the dataframe, which gives time on the particular day\n",
        "  trip_weather_station_ID['dayofweek'] = trip_weather_station_ID['Start Date'].dt.dayofweek # Adding \"dayofweek\" column to the dataframe, which gives information about the day\n",
        "  trip_weather_station_ID['month'] = trip_weather_station_ID['Start Date'].dt.month   # Adding \"month\" column to the dataframe, which gives information about the day\n",
        "  #Dropping the columns that are not necessary\n",
        "  trip_weather_station_ID_drop = trip_weather_station_ID[['Start Date', 'Max TemperatureF', 'Max Wind SpeedMPH', 'Min TemperatureF', 'dayofweek', 'month' ,'total_bikes_pct_change','total_bikes_change' , 'net_change_bikes']]\n",
        "  corrmat = trip_weather_station_ID_drop.corr(method = 'spearman')\n",
        "  #   plt.subplots(figsize = (12,9))\n",
        "  #   sns.heatmap (corrmat, vmax = 0.9, square = True)\n",
        "  #Number of columns to be dropped \"Date\", \"total_bikes_change\", \"total_bikes_pct_change\", \"Start Date\", \n",
        "  #Setting up the index column\n",
        "  trip_weather_station_ID_drop.set_index('Start Date', inplace = True)\n",
        "  trip_weather_station_ID_drop.fillna(method = 'ffill', inplace = True)\n",
        "  trip_weather_station_ID_drop.drop(['net_change_bikes', 'total_bikes_pct_change'], axis = 1, inplace = True)\n",
        "  #Shifting the target\n",
        "  # The data is shifted depending on number of time steps we want to shift the data. In this case we would like to predict the data for 1 day, and the data is resample for an hour. \n",
        "  # So the data is shifted by 24 hours\n",
        "  # Prediction column\n",
        "  #We want to predict the future in order to do that we have to shift the target column into future\n",
        "\n",
        "  shift_days = 1\n",
        "  shift_time = shift_days * 24 # shift time hours The idea is to predict the movement of the bikes for next day\n",
        "  shift_steps = 20 # since the data registered doesn't contain full 24 hours cycle of the day due to the nature of the data, hence, it is input manually.\n",
        "  #Creating a new data frame with time shifted data\n",
        "  ## Note the negative time shift\n",
        "  target = trip_weather_station_ID_drop['total_bikes_change'].shift(-shift_steps)\n",
        "  trip_weather_station_ID_drop.drop('total_bikes_change', axis = 1, inplace = True)\n",
        "  #Numpy Arrays for putting into neural network\n",
        "  \n",
        "  x_data = trip_weather_station_ID_drop.values[0 : -shift_steps]\n",
        "  \n",
        "  y_data = target.values [:-shift_steps] # Output signals\n",
        "  \n",
        "  #Splitting the data between training and validation\n",
        "  \n",
        "  num_data = x_data.shape[0]\n",
        "\n",
        "  train_split = 0.8\n",
        "  #This is the number of observations in the training set\n",
        "  num_train = int (train_split * num_data)\n",
        "  num_test = num_data-num_train\n",
        "  \n",
        "  # splitting\n",
        "  x_train = x_data[0:num_train]\n",
        "  x_test = x_data[num_train:]\n",
        "  num_x_signals = x_data.shape[1]\n",
        "  y_data= y_data.reshape(-1,1)\n",
        "  #Number of output signals\n",
        "  \n",
        "  num_y_signals = y_data.shape[1]\n",
        "  y_train = y_data[0:num_train]\n",
        "  y_test = y_data[num_train:]\n",
        "  \n",
        "  #The neural networks works best when the values are between -1 and 1, so to get optimum result we need to scale the data before entering into neural network. we use scikit preprocessing for this\n",
        "  \n",
        "  x_scaler = MinMaxScaler()\n",
        "  \n",
        "  #We then detect the range of values from training data and scale the training data\n",
        "  \n",
        "  x_train_scaled = x_scaler.fit_transform(x_train)\n",
        "  \n",
        "  #We use the same scaler objects in the input signal for the test sets\n",
        "  \n",
        "  x_test_scaled = x_scaler.transform(x_test)\n",
        "  \n",
        "  #We create seperate scalar object for the test set\n",
        "  \n",
        "  y_scaler = MinMaxScaler()\n",
        "  y_train_scaled = y_scaler.fit_transform(y_train.reshape(-1,1))\n",
        "  y_test_scaled = y_scaler.transform(y_test.reshape(-1,1))\n",
        "  \n",
        "  #Instead of training the RNN at all sequences on the complete sequences , we will use the following function to create a batch of shorter sub sequences picked at random from the training data\n",
        "  \n",
        "  def batch_generator (batch_size, sequence_length):\n",
        "  # Infinite loop.\n",
        "    while True:\n",
        "        # Allocate a new array for the batch of input-signals.\n",
        "        x_shape = (batch_size, sequence_length, num_x_signals)\n",
        "        x_batch = np.zeros(shape=x_shape, dtype=np.float16)\n",
        "\n",
        "        # Allocate a new array for the batch of output-signals.\n",
        "        y_shape = (batch_size, sequence_length, num_y_signals)\n",
        "        y_batch = np.zeros(shape=y_shape, dtype=np.float16)\n",
        "\n",
        "        # Fill the batch with random sequences of data.\n",
        "        for i in range(batch_size):\n",
        "            # Get a random start-index.\n",
        "            # This points somewhere into the training-data.\n",
        "            idx = np.random.randint(num_train - sequence_length)\n",
        "            \n",
        "            # Copy the sequences of data starting at this index.\n",
        "            x_batch[i] = x_train_scaled[idx:idx+sequence_length]\n",
        "            y_batch[i] = y_train_scaled[idx:idx+sequence_length]\n",
        "        \n",
        "        yield (x_batch, y_batch)\n",
        "  batch_size = 90 # Intializing the batch size\n",
        "  sequence_length = 20*7 # 7 days of the data\n",
        "  \n",
        "  #We then create a batch generator\n",
        "  \n",
        "  generator = batch_generator(batch_size=batch_size,\n",
        "                            sequence_length=sequence_length)\n",
        "  \n",
        "  #We can then test the batch generator to see if it works\n",
        "  x_batch, y_batch = next(generator)\n",
        "  \n",
        "  #Validation set for testing the mode accuracy so that model wont overfit\n",
        "  \n",
        "  validation_data = (np.expand_dims(x_test_scaled, axis=0),\n",
        "                   np.expand_dims(y_test_scaled, axis=0))\n",
        "  \n",
        "  #CREATING THE NEURAL NETWORK RNN\n",
        "  \n",
        "  model = Sequential()\n",
        "  \n",
        "  # Applying GRU model to the data\n",
        "  model.add(GRU(units=128, return_sequences=True,             \n",
        "                input_shape=(None, num_x_signals,)))\n",
        "\n",
        "  model.add(Dropout(0.3))\n",
        "\n",
        "  model.add(GRU(units=128,return_sequences=True))\n",
        "  model.add(Dropout(0.3))\n",
        "\n",
        "  model.add(Dense(units=32, activation = 'relu'))\n",
        "  model.add(Dropout(0.3))\n",
        "\n",
        "\n",
        "\n",
        "  model.add(Dense(num_y_signals, activation='sigmoid'))\n",
        "  #Optimizer\n",
        "  \n",
        "  optimizer = tf.keras.optimizers.Adam(lr=0.001, decay=1e-6)\n",
        "  \n",
        "  #We then compile the Keras model so it is ready for training.\n",
        "  \n",
        "  warmup_steps = 50\n",
        "  def loss_mse_warmup(y_true, y_pred):\n",
        "      \"\"\"\n",
        "      Calculate the Mean Squared Error between y_true and y_pred,\n",
        "      but ignore the beginning \"warmup\" part of the sequences.\n",
        "\n",
        "      y_true is the desired output.\n",
        "      y_pred is the model's output.\n",
        "      \"\"\"\n",
        "\n",
        "      y_true_slice = y_true[:, warmup_steps:, :]\n",
        "      y_pred_slice = y_pred[:, warmup_steps:, :]\n",
        "\n",
        "\n",
        "      loss = tf.losses.mean_squared_error(labels=y_true_slice,\n",
        "                                          predictions=y_pred_slice)\n",
        "  \n",
        "      loss_mean = tf.reduce_mean(loss)\n",
        "\n",
        "      return loss_mean\n",
        "   \n",
        "  model.compile(loss='mse', optimizer=optimizer, metrics = ['mae'])\n",
        "  #Train the RNN\n",
        "  \n",
        "  model.fit_generator(generator=generator,\n",
        "                    epochs=3,\n",
        "                    steps_per_epoch=100,\n",
        "                    validation_data=validation_data\n",
        "                    )\n",
        "  result = model.evaluate(x=np.expand_dims(x_test_scaled, axis=0),\n",
        "                        y=np.expand_dims(y_test_scaled, axis=0))\n",
        "  #print (result)\n",
        "  \n",
        "  #Generate Predictions\n",
        "  \n",
        "  #x_train_scaled.shape\n",
        "  x = np.expand_dims(x_train_scaled, axis=0)\n",
        "  y_true_train = y_train\n",
        "  # Use the model to predict the output-signals.\n",
        "  y_pred_train = model.predict(x)\n",
        "  \n",
        "  #The output of the model is between 0 and 1. Do an inverse map to get back into the scale of the original dataset\n",
        "  \n",
        "  y_pred_rescaled = y_scaler.inverse_transform(y_pred_train[0])\n",
        "  \n",
        "  #PREDICTION ON TEST DATA\n",
        "  x_test = np.expand_dims(x_test_scaled, axis=0)\n",
        "  y_true_test = y_test\n",
        "  # Use the model to predict the output-signals.\n",
        "  y_pred_test = model.predict(x_test)\n",
        "  \n",
        "  #The output of the model is between 0 and 1. Do an inverse map to get back into the scale of the original dataset\n",
        "\n",
        "  y_pred_rescaled_test = y_scaler.inverse_transform(y_pred_test[0])\n",
        "  \n",
        "  #Predicting the model current output of net change in bikes at given station\n",
        "  #For doing this, the current datetime is taken from the computer is registered and with weather values picked up randomly from the dataset the net change in bikes at any goven station is predicted for current time.\n",
        "  current_time = datetime.datetime.now() # Importing the time from the computer with pandas\n",
        "\n",
        "  current_test = {'Max TemperatureF' : [78],     # Creating a list with randomly picked weather values from the dataset\n",
        "                'Max Wind SpeedMPH' : [18],\n",
        "                 'Min TemperatureF' : [55]\n",
        "                  }\n",
        "\n",
        "\n",
        "  df = pd.DataFrame(current_test)                     # Creating a dataframe\n",
        "  date_range = pd.to_datetime('today')                  # Date of today no time included  \n",
        "  time_range = pd.date_range(\"00:00\", current_time, freq=\"1H\")  # creating a time range from midnight today to currrent time \n",
        "  #df_time = pd.DataFrame (time_range)                       \n",
        "  length_time = len(time_range)\n",
        "  length_time\n",
        "  df = pd.concat([df]*length_time)                # Since the weather is daiy forecast it stays same entire day, so rows are duplicated depending on the time range\n",
        "  lenght_time_df = len(df)\n",
        "  length_time = len(time_range)\n",
        "  print (lenght_time_df)\n",
        "  print (length_time)\n",
        "  df['Date'] = time_range                       # Creating a column with date and time\n",
        "  df['dayofweek'] = df['Date'].dt.dayofweek     # Calculating day of the week\n",
        "  df['month']= df['Date'].dt.month              # Calculating month\n",
        "  \n",
        "  df.set_index('Date', inplace = True)      # Set DATE as index\n",
        "  #Input the current datetime dataframe to model\n",
        "  \n",
        "  #Scaling the values of the dataframe\n",
        "  \n",
        "  df1 = df.values\n",
        "  #x_test_scaled = x_scaler.transform(df.values)\n",
        "\n",
        "  x_df_scaled = x_scaler.transform(df1)\n",
        "  \n",
        "  #Changing the dimensions and applying the model prediction\n",
        "  \n",
        "  x_df =  np.expand_dims(x_df_scaled, axis=0)\n",
        "  # Use the model to predict the output-signals.\n",
        "  y_pred_df = model.predict(x_df)\n",
        "  \n",
        "  #Inverse transforming the output\n",
        "  \n",
        "  y_pred_rescaled_df = y_scaler.inverse_transform(y_pred_df[0])\n",
        "  \n",
        "  #To measure the net change in bikes we need to know the previous hour values and current value, that is the reason that range is applied so that we can extract current value from previous.\n",
        "  \n",
        "  res = [x-y for x, y in zip (y_pred_rescaled_df,y_pred_rescaled_df[1:])]\n",
        "  print ('Net change in bikes :' , res[-1] )   # The last value referes to the current value and that is printed out .\n",
        "  net_change_bikes = res[-1].tolist()\n",
        "  net_change_bikes_result.append(net_change_bikes)\n",
        "  \n",
        "net_change_bikes_result  "
      ],
      "execution_count": 0,
      "outputs": [
        {
          "output_type": "stream",
          "text": [
            "/usr/local/lib/python3.6/dist-packages/pandas/core/frame.py:3035: SettingWithCopyWarning: \n",
            "A value is trying to be set on a copy of a slice from a DataFrame\n",
            "\n",
            "See the caveats in the documentation: http://pandas.pydata.org/pandas-docs/stable/indexing.html#indexing-view-versus-copy\n",
            "  downcast=downcast, **kwargs)\n"
          ],
          "name": "stderr"
        },
        {
          "output_type": "stream",
          "text": [
            "Weather_station_id shape is (365, 25)\n",
            "start_end_station shape is (15823, 7)\n",
            "The number of rows of the merger should be same as start_end_station length of rows : (15835, 33)\n"
          ],
          "name": "stdout"
        },
        {
          "output_type": "stream",
          "text": [
            "/usr/local/lib/python3.6/dist-packages/ipykernel_launcher.py:61: SettingWithCopyWarning: \n",
            "A value is trying to be set on a copy of a slice from a DataFrame\n",
            "\n",
            "See the caveats in the documentation: http://pandas.pydata.org/pandas-docs/stable/indexing.html#indexing-view-versus-copy\n",
            "/usr/local/lib/python3.6/dist-packages/ipykernel_launcher.py:74: SettingWithCopyWarning: \n",
            "A value is trying to be set on a copy of a slice from a DataFrame\n",
            "\n",
            "See the caveats in the documentation: http://pandas.pydata.org/pandas-docs/stable/indexing.html#indexing-view-versus-copy\n"
          ],
          "name": "stderr"
        },
        {
          "output_type": "stream",
          "text": [
            "Epoch 1/3\n",
            "1/1 [==============================] - 2s 2s/sample - loss: 0.1466 - mean_absolute_error: 0.3683\n",
            "100/100 [==============================] - 47s 466ms/step - loss: 0.0781 - mean_absolute_error: 0.2398 - val_loss: 0.1466 - val_mean_absolute_error: 0.3683\n",
            "Epoch 2/3\n",
            "1/1 [==============================] - 2s 2s/sample - loss: 0.0136 - mean_absolute_error: 0.0880\n",
            "100/100 [==============================] - 45s 449ms/step - loss: 0.0395 - mean_absolute_error: 0.1458 - val_loss: 0.0136 - val_mean_absolute_error: 0.0880\n",
            "Epoch 3/3\n",
            "1/1 [==============================] - 2s 2s/sample - loss: 0.1007 - mean_absolute_error: 0.2958\n",
            "100/100 [==============================] - 45s 454ms/step - loss: 0.0202 - mean_absolute_error: 0.0991 - val_loss: 0.1007 - val_mean_absolute_error: 0.2958\n",
            "1/1 [==============================] - 2s 2s/sample - loss: 0.1007 - mean_absolute_error: 0.2958\n",
            "12\n",
            "12\n",
            "Net change in bikes : [0.20379639]\n"
          ],
          "name": "stdout"
        },
        {
          "output_type": "stream",
          "text": [
            "/usr/local/lib/python3.6/dist-packages/pandas/core/frame.py:3035: SettingWithCopyWarning: \n",
            "A value is trying to be set on a copy of a slice from a DataFrame\n",
            "\n",
            "See the caveats in the documentation: http://pandas.pydata.org/pandas-docs/stable/indexing.html#indexing-view-versus-copy\n",
            "  downcast=downcast, **kwargs)\n"
          ],
          "name": "stderr"
        },
        {
          "output_type": "stream",
          "text": [
            "Weather_station_id shape is (365, 25)\n",
            "start_end_station shape is (16740, 7)\n",
            "The number of rows of the merger should be same as start_end_station length of rows : (16741, 33)\n"
          ],
          "name": "stdout"
        },
        {
          "output_type": "stream",
          "text": [
            "/usr/local/lib/python3.6/dist-packages/ipykernel_launcher.py:61: SettingWithCopyWarning: \n",
            "A value is trying to be set on a copy of a slice from a DataFrame\n",
            "\n",
            "See the caveats in the documentation: http://pandas.pydata.org/pandas-docs/stable/indexing.html#indexing-view-versus-copy\n",
            "/usr/local/lib/python3.6/dist-packages/ipykernel_launcher.py:74: SettingWithCopyWarning: \n",
            "A value is trying to be set on a copy of a slice from a DataFrame\n",
            "\n",
            "See the caveats in the documentation: http://pandas.pydata.org/pandas-docs/stable/indexing.html#indexing-view-versus-copy\n"
          ],
          "name": "stderr"
        },
        {
          "output_type": "stream",
          "text": [
            "Epoch 1/3\n",
            "1/1 [==============================] - 2s 2s/sample - loss: 0.1314 - mean_absolute_error: 0.3449\n",
            "100/100 [==============================] - 47s 474ms/step - loss: 0.0757 - mean_absolute_error: 0.2314 - val_loss: 0.1314 - val_mean_absolute_error: 0.3449\n",
            "Epoch 2/3\n",
            "1/1 [==============================] - 2s 2s/sample - loss: 0.0978 - mean_absolute_error: 0.2895\n",
            "100/100 [==============================] - 46s 457ms/step - loss: 0.0519 - mean_absolute_error: 0.1720 - val_loss: 0.0978 - val_mean_absolute_error: 0.2895\n",
            "Epoch 3/3\n",
            "1/1 [==============================] - 2s 2s/sample - loss: 0.0282 - mean_absolute_error: 0.1507\n",
            "100/100 [==============================] - 46s 456ms/step - loss: 0.0370 - mean_absolute_error: 0.1332 - val_loss: 0.0282 - val_mean_absolute_error: 0.1507\n",
            "1/1 [==============================] - 2s 2s/sample - loss: 0.0282 - mean_absolute_error: 0.1507\n",
            "12\n",
            "12\n",
            "Net change in bikes : [-4.219818]\n"
          ],
          "name": "stdout"
        },
        {
          "output_type": "stream",
          "text": [
            "/usr/local/lib/python3.6/dist-packages/pandas/core/frame.py:3035: SettingWithCopyWarning: \n",
            "A value is trying to be set on a copy of a slice from a DataFrame\n",
            "\n",
            "See the caveats in the documentation: http://pandas.pydata.org/pandas-docs/stable/indexing.html#indexing-view-versus-copy\n",
            "  downcast=downcast, **kwargs)\n"
          ],
          "name": "stderr"
        },
        {
          "output_type": "stream",
          "text": [
            "Weather_station_id shape is (0, 25)\n",
            "start_end_station shape is (7278, 7)\n",
            "The number of rows of the merger should be same as start_end_station length of rows : (7278, 33)\n"
          ],
          "name": "stdout"
        },
        {
          "output_type": "stream",
          "text": [
            "/usr/local/lib/python3.6/dist-packages/ipykernel_launcher.py:61: SettingWithCopyWarning: \n",
            "A value is trying to be set on a copy of a slice from a DataFrame\n",
            "\n",
            "See the caveats in the documentation: http://pandas.pydata.org/pandas-docs/stable/indexing.html#indexing-view-versus-copy\n",
            "/usr/local/lib/python3.6/dist-packages/ipykernel_launcher.py:74: SettingWithCopyWarning: \n",
            "A value is trying to be set on a copy of a slice from a DataFrame\n",
            "\n",
            "See the caveats in the documentation: http://pandas.pydata.org/pandas-docs/stable/indexing.html#indexing-view-versus-copy\n"
          ],
          "name": "stderr"
        },
        {
          "output_type": "stream",
          "text": [
            "Epoch 1/3\n",
            "1/1 [==============================] - 2s 2s/sample - loss: 0.0272 - mean_absolute_error: 0.1553\n",
            "100/100 [==============================] - 47s 475ms/step - loss: 0.0773 - mean_absolute_error: 0.2358 - val_loss: 0.0272 - val_mean_absolute_error: 0.1553\n",
            "Epoch 2/3\n",
            "1/1 [==============================] - 2s 2s/sample - loss: 0.1379 - mean_absolute_error: 0.3218\n",
            "100/100 [==============================] - 46s 455ms/step - loss: 0.0486 - mean_absolute_error: 0.1625 - val_loss: 0.1379 - val_mean_absolute_error: 0.3218\n",
            "Epoch 3/3\n",
            "1/1 [==============================] - 2s 2s/sample - loss: 0.0314 - mean_absolute_error: 0.1381\n",
            "100/100 [==============================] - 46s 465ms/step - loss: 0.0332 - mean_absolute_error: 0.1283 - val_loss: 0.0314 - val_mean_absolute_error: 0.1381\n",
            "1/1 [==============================] - 2s 2s/sample - loss: 0.0314 - mean_absolute_error: 0.1381\n",
            "12\n",
            "12\n",
            "Net change in bikes : [-11.271698]\n"
          ],
          "name": "stdout"
        },
        {
          "output_type": "stream",
          "text": [
            "/usr/local/lib/python3.6/dist-packages/pandas/core/frame.py:3035: SettingWithCopyWarning: \n",
            "A value is trying to be set on a copy of a slice from a DataFrame\n",
            "\n",
            "See the caveats in the documentation: http://pandas.pydata.org/pandas-docs/stable/indexing.html#indexing-view-versus-copy\n",
            "  downcast=downcast, **kwargs)\n"
          ],
          "name": "stderr"
        },
        {
          "output_type": "stream",
          "text": [
            "Weather_station_id shape is (730, 25)\n",
            "start_end_station shape is (15258, 7)\n",
            "The number of rows of the merger should be same as start_end_station length of rows : (23746, 33)\n"
          ],
          "name": "stdout"
        },
        {
          "output_type": "stream",
          "text": [
            "/usr/local/lib/python3.6/dist-packages/ipykernel_launcher.py:61: SettingWithCopyWarning: \n",
            "A value is trying to be set on a copy of a slice from a DataFrame\n",
            "\n",
            "See the caveats in the documentation: http://pandas.pydata.org/pandas-docs/stable/indexing.html#indexing-view-versus-copy\n",
            "/usr/local/lib/python3.6/dist-packages/ipykernel_launcher.py:74: SettingWithCopyWarning: \n",
            "A value is trying to be set on a copy of a slice from a DataFrame\n",
            "\n",
            "See the caveats in the documentation: http://pandas.pydata.org/pandas-docs/stable/indexing.html#indexing-view-versus-copy\n"
          ],
          "name": "stderr"
        },
        {
          "output_type": "stream",
          "text": [
            "Epoch 1/3\n",
            "1/1 [==============================] - 3s 3s/sample - loss: 0.1344 - mean_absolute_error: 0.3436\n",
            "100/100 [==============================] - 48s 479ms/step - loss: 0.0789 - mean_absolute_error: 0.2416 - val_loss: 0.1344 - val_mean_absolute_error: 0.3436\n",
            "Epoch 2/3\n",
            "1/1 [==============================] - 2s 2s/sample - loss: 0.1597 - mean_absolute_error: 0.3636\n",
            "100/100 [==============================] - 46s 461ms/step - loss: 0.0460 - mean_absolute_error: 0.1596 - val_loss: 0.1597 - val_mean_absolute_error: 0.3636\n",
            "Epoch 3/3\n",
            "1/1 [==============================] - 2s 2s/sample - loss: 0.0757 - mean_absolute_error: 0.2444\n",
            "100/100 [==============================] - 46s 460ms/step - loss: 0.0282 - mean_absolute_error: 0.1168 - val_loss: 0.0757 - val_mean_absolute_error: 0.2444\n",
            "1/1 [==============================] - 2s 2s/sample - loss: 0.0757 - mean_absolute_error: 0.2444\n",
            "12\n",
            "12\n",
            "Net change in bikes : [-10.521545]\n"
          ],
          "name": "stdout"
        },
        {
          "output_type": "stream",
          "text": [
            "/usr/local/lib/python3.6/dist-packages/pandas/core/frame.py:3035: SettingWithCopyWarning: \n",
            "A value is trying to be set on a copy of a slice from a DataFrame\n",
            "\n",
            "See the caveats in the documentation: http://pandas.pydata.org/pandas-docs/stable/indexing.html#indexing-view-versus-copy\n",
            "  downcast=downcast, **kwargs)\n"
          ],
          "name": "stderr"
        },
        {
          "output_type": "stream",
          "text": [
            "Weather_station_id shape is (365, 25)\n",
            "start_end_station shape is (16611, 7)\n",
            "The number of rows of the merger should be same as start_end_station length of rows : (16617, 33)\n"
          ],
          "name": "stdout"
        },
        {
          "output_type": "stream",
          "text": [
            "/usr/local/lib/python3.6/dist-packages/ipykernel_launcher.py:61: SettingWithCopyWarning: \n",
            "A value is trying to be set on a copy of a slice from a DataFrame\n",
            "\n",
            "See the caveats in the documentation: http://pandas.pydata.org/pandas-docs/stable/indexing.html#indexing-view-versus-copy\n",
            "/usr/local/lib/python3.6/dist-packages/ipykernel_launcher.py:74: SettingWithCopyWarning: \n",
            "A value is trying to be set on a copy of a slice from a DataFrame\n",
            "\n",
            "See the caveats in the documentation: http://pandas.pydata.org/pandas-docs/stable/indexing.html#indexing-view-versus-copy\n"
          ],
          "name": "stderr"
        },
        {
          "output_type": "stream",
          "text": [
            "Epoch 1/3\n",
            "1/1 [==============================] - 3s 3s/sample - loss: 0.1722 - mean_absolute_error: 0.3911\n",
            "100/100 [==============================] - 48s 485ms/step - loss: 0.0778 - mean_absolute_error: 0.2363 - val_loss: 0.1722 - val_mean_absolute_error: 0.3911\n",
            "Epoch 2/3\n",
            "1/1 [==============================] - 2s 2s/sample - loss: 0.0570 - mean_absolute_error: 0.2178\n",
            "100/100 [==============================] - 46s 463ms/step - loss: 0.0381 - mean_absolute_error: 0.1419 - val_loss: 0.0570 - val_mean_absolute_error: 0.2178\n",
            "Epoch 3/3\n",
            "1/1 [==============================] - 2s 2s/sample - loss: 0.0496 - mean_absolute_error: 0.1997\n",
            "100/100 [==============================] - 46s 464ms/step - loss: 0.0261 - mean_absolute_error: 0.1114 - val_loss: 0.0496 - val_mean_absolute_error: 0.1997\n",
            "1/1 [==============================] - 2s 2s/sample - loss: 0.0496 - mean_absolute_error: 0.1997\n",
            "12\n",
            "12\n",
            "Net change in bikes : [0.04431152]\n"
          ],
          "name": "stdout"
        },
        {
          "output_type": "stream",
          "text": [
            "/usr/local/lib/python3.6/dist-packages/pandas/core/frame.py:3035: SettingWithCopyWarning: \n",
            "A value is trying to be set on a copy of a slice from a DataFrame\n",
            "\n",
            "See the caveats in the documentation: http://pandas.pydata.org/pandas-docs/stable/indexing.html#indexing-view-versus-copy\n",
            "  downcast=downcast, **kwargs)\n"
          ],
          "name": "stderr"
        },
        {
          "output_type": "stream",
          "text": [
            "Weather_station_id shape is (0, 25)\n",
            "start_end_station shape is (7310, 7)\n",
            "The number of rows of the merger should be same as start_end_station length of rows : (7310, 33)\n"
          ],
          "name": "stdout"
        },
        {
          "output_type": "stream",
          "text": [
            "/usr/local/lib/python3.6/dist-packages/ipykernel_launcher.py:61: SettingWithCopyWarning: \n",
            "A value is trying to be set on a copy of a slice from a DataFrame\n",
            "\n",
            "See the caveats in the documentation: http://pandas.pydata.org/pandas-docs/stable/indexing.html#indexing-view-versus-copy\n",
            "/usr/local/lib/python3.6/dist-packages/ipykernel_launcher.py:74: SettingWithCopyWarning: \n",
            "A value is trying to be set on a copy of a slice from a DataFrame\n",
            "\n",
            "See the caveats in the documentation: http://pandas.pydata.org/pandas-docs/stable/indexing.html#indexing-view-versus-copy\n"
          ],
          "name": "stderr"
        },
        {
          "output_type": "stream",
          "text": [
            "Epoch 1/3\n",
            "1/1 [==============================] - 3s 3s/sample - loss: 0.1311 - mean_absolute_error: 0.3415\n",
            "100/100 [==============================] - 49s 486ms/step - loss: 0.0760 - mean_absolute_error: 0.2310 - val_loss: 0.1311 - val_mean_absolute_error: 0.3415\n",
            "Epoch 2/3\n",
            "1/1 [==============================] - 2s 2s/sample - loss: 0.0803 - mean_absolute_error: 0.2539\n",
            "100/100 [==============================] - 46s 461ms/step - loss: 0.0466 - mean_absolute_error: 0.1557 - val_loss: 0.0803 - val_mean_absolute_error: 0.2539\n",
            "Epoch 3/3\n",
            "1/1 [==============================] - 2s 2s/sample - loss: 0.2345 - mean_absolute_error: 0.4566\n",
            "100/100 [==============================] - 46s 465ms/step - loss: 0.0288 - mean_absolute_error: 0.1172 - val_loss: 0.2345 - val_mean_absolute_error: 0.4566\n",
            "1/1 [==============================] - 2s 2s/sample - loss: 0.2345 - mean_absolute_error: 0.4566\n",
            "12\n",
            "12\n",
            "Net change in bikes : [-4.698181]\n"
          ],
          "name": "stdout"
        },
        {
          "output_type": "stream",
          "text": [
            "/usr/local/lib/python3.6/dist-packages/pandas/core/frame.py:3035: SettingWithCopyWarning: \n",
            "A value is trying to be set on a copy of a slice from a DataFrame\n",
            "\n",
            "See the caveats in the documentation: http://pandas.pydata.org/pandas-docs/stable/indexing.html#indexing-view-versus-copy\n",
            "  downcast=downcast, **kwargs)\n"
          ],
          "name": "stderr"
        },
        {
          "output_type": "stream",
          "text": [
            "Weather_station_id shape is (730, 25)\n",
            "start_end_station shape is (16691, 7)\n",
            "The number of rows of the merger should be same as start_end_station length of rows : (25372, 33)\n"
          ],
          "name": "stdout"
        },
        {
          "output_type": "stream",
          "text": [
            "/usr/local/lib/python3.6/dist-packages/ipykernel_launcher.py:61: SettingWithCopyWarning: \n",
            "A value is trying to be set on a copy of a slice from a DataFrame\n",
            "\n",
            "See the caveats in the documentation: http://pandas.pydata.org/pandas-docs/stable/indexing.html#indexing-view-versus-copy\n",
            "/usr/local/lib/python3.6/dist-packages/ipykernel_launcher.py:74: SettingWithCopyWarning: \n",
            "A value is trying to be set on a copy of a slice from a DataFrame\n",
            "\n",
            "See the caveats in the documentation: http://pandas.pydata.org/pandas-docs/stable/indexing.html#indexing-view-versus-copy\n"
          ],
          "name": "stderr"
        },
        {
          "output_type": "stream",
          "text": [
            "Epoch 1/3\n",
            "1/1 [==============================] - 3s 3s/sample - loss: 0.1323 - mean_absolute_error: 0.3415\n",
            "100/100 [==============================] - 49s 489ms/step - loss: 0.0749 - mean_absolute_error: 0.2306 - val_loss: 0.1323 - val_mean_absolute_error: 0.3415\n",
            "Epoch 2/3\n",
            "1/1 [==============================] - 2s 2s/sample - loss: 0.0204 - mean_absolute_error: 0.1275\n",
            "100/100 [==============================] - 46s 462ms/step - loss: 0.0412 - mean_absolute_error: 0.1467 - val_loss: 0.0204 - val_mean_absolute_error: 0.1275\n",
            "Epoch 3/3\n",
            "1/1 [==============================] - 2s 2s/sample - loss: 0.1034 - mean_absolute_error: 0.2913\n",
            "100/100 [==============================] - 46s 464ms/step - loss: 0.0426 - mean_absolute_error: 0.1491 - val_loss: 0.1034 - val_mean_absolute_error: 0.2913\n",
            "1/1 [==============================] - 2s 2s/sample - loss: 0.1034 - mean_absolute_error: 0.2913\n",
            "13\n",
            "13\n",
            "Net change in bikes : [-11.679413]\n"
          ],
          "name": "stdout"
        },
        {
          "output_type": "stream",
          "text": [
            "/usr/local/lib/python3.6/dist-packages/pandas/core/frame.py:3035: SettingWithCopyWarning: \n",
            "A value is trying to be set on a copy of a slice from a DataFrame\n",
            "\n",
            "See the caveats in the documentation: http://pandas.pydata.org/pandas-docs/stable/indexing.html#indexing-view-versus-copy\n",
            "  downcast=downcast, **kwargs)\n"
          ],
          "name": "stderr"
        },
        {
          "output_type": "stream",
          "text": [
            "Weather_station_id shape is (365, 25)\n",
            "start_end_station shape is (16739, 7)\n",
            "The number of rows of the merger should be same as start_end_station length of rows : (16740, 33)\n"
          ],
          "name": "stdout"
        },
        {
          "output_type": "stream",
          "text": [
            "/usr/local/lib/python3.6/dist-packages/ipykernel_launcher.py:61: SettingWithCopyWarning: \n",
            "A value is trying to be set on a copy of a slice from a DataFrame\n",
            "\n",
            "See the caveats in the documentation: http://pandas.pydata.org/pandas-docs/stable/indexing.html#indexing-view-versus-copy\n",
            "/usr/local/lib/python3.6/dist-packages/ipykernel_launcher.py:74: SettingWithCopyWarning: \n",
            "A value is trying to be set on a copy of a slice from a DataFrame\n",
            "\n",
            "See the caveats in the documentation: http://pandas.pydata.org/pandas-docs/stable/indexing.html#indexing-view-versus-copy\n"
          ],
          "name": "stderr"
        },
        {
          "output_type": "stream",
          "text": [
            "Epoch 1/3\n",
            "1/1 [==============================] - 3s 3s/sample - loss: 0.0887 - mean_absolute_error: 0.2921\n",
            "100/100 [==============================] - 49s 492ms/step - loss: 0.0774 - mean_absolute_error: 0.2394 - val_loss: 0.0887 - val_mean_absolute_error: 0.2921\n",
            "Epoch 2/3\n",
            "1/1 [==============================] - 2s 2s/sample - loss: 0.0733 - mean_absolute_error: 0.2537\n",
            "100/100 [==============================] - 46s 463ms/step - loss: 0.0490 - mean_absolute_error: 0.1700 - val_loss: 0.0733 - val_mean_absolute_error: 0.2537\n",
            "Epoch 3/3\n",
            "1/1 [==============================] - 2s 2s/sample - loss: 0.1011 - mean_absolute_error: 0.3074\n",
            "100/100 [==============================] - 46s 462ms/step - loss: 0.0383 - mean_absolute_error: 0.1422 - val_loss: 0.1011 - val_mean_absolute_error: 0.3074\n",
            "1/1 [==============================] - 2s 2s/sample - loss: 0.1011 - mean_absolute_error: 0.3074\n",
            "13\n",
            "13\n",
            "Net change in bikes : [1.9425964]\n"
          ],
          "name": "stdout"
        },
        {
          "output_type": "stream",
          "text": [
            "/usr/local/lib/python3.6/dist-packages/pandas/core/frame.py:3035: SettingWithCopyWarning: \n",
            "A value is trying to be set on a copy of a slice from a DataFrame\n",
            "\n",
            "See the caveats in the documentation: http://pandas.pydata.org/pandas-docs/stable/indexing.html#indexing-view-versus-copy\n",
            "  downcast=downcast, **kwargs)\n"
          ],
          "name": "stderr"
        },
        {
          "output_type": "stream",
          "text": [
            "Weather_station_id shape is (365, 25)\n",
            "start_end_station shape is (16012, 7)\n",
            "The number of rows of the merger should be same as start_end_station length of rows : (16016, 33)\n"
          ],
          "name": "stdout"
        },
        {
          "output_type": "stream",
          "text": [
            "/usr/local/lib/python3.6/dist-packages/ipykernel_launcher.py:61: SettingWithCopyWarning: \n",
            "A value is trying to be set on a copy of a slice from a DataFrame\n",
            "\n",
            "See the caveats in the documentation: http://pandas.pydata.org/pandas-docs/stable/indexing.html#indexing-view-versus-copy\n",
            "/usr/local/lib/python3.6/dist-packages/ipykernel_launcher.py:74: SettingWithCopyWarning: \n",
            "A value is trying to be set on a copy of a slice from a DataFrame\n",
            "\n",
            "See the caveats in the documentation: http://pandas.pydata.org/pandas-docs/stable/indexing.html#indexing-view-versus-copy\n"
          ],
          "name": "stderr"
        },
        {
          "output_type": "stream",
          "text": [
            "Epoch 1/3\n",
            "1/1 [==============================] - 3s 3s/sample - loss: 0.1203 - mean_absolute_error: 0.3330\n",
            "100/100 [==============================] - 49s 492ms/step - loss: 0.0771 - mean_absolute_error: 0.2381 - val_loss: 0.1203 - val_mean_absolute_error: 0.3330\n",
            "Epoch 2/3\n",
            "1/1 [==============================] - 2s 2s/sample - loss: 0.0146 - mean_absolute_error: 0.1008\n",
            "100/100 [==============================] - 46s 462ms/step - loss: 0.0462 - mean_absolute_error: 0.1599 - val_loss: 0.0146 - val_mean_absolute_error: 0.1008\n",
            "Epoch 3/3\n",
            "1/1 [==============================] - 2s 2s/sample - loss: 0.0692 - mean_absolute_error: 0.2433\n",
            "100/100 [==============================] - 47s 465ms/step - loss: 0.0532 - mean_absolute_error: 0.1688 - val_loss: 0.0692 - val_mean_absolute_error: 0.2433\n",
            "1/1 [==============================] - 2s 2s/sample - loss: 0.0692 - mean_absolute_error: 0.2433\n",
            "13\n",
            "13\n",
            "Net change in bikes : [-4.2410583]\n"
          ],
          "name": "stdout"
        },
        {
          "output_type": "execute_result",
          "data": {
            "text/plain": [
              "[[0.20379638671875],\n",
              " [-4.219818115234375],\n",
              " [-11.271697998046875],\n",
              " [-10.52154541015625],\n",
              " [0.0443115234375],\n",
              " [-4.69818115234375],\n",
              " [-11.679412841796875],\n",
              " [1.942596435546875],\n",
              " [-4.241058349609375]]"
            ]
          },
          "metadata": {
            "tags": []
          },
          "execution_count": 25
        }
      ]
    },
    {
      "metadata": {
        "id": "tJu5c5MgyBjw",
        "colab_type": "code",
        "outputId": "9f74f710-a77e-4747-8422-e95bc4e89b67",
        "colab": {
          "base_uri": "https://localhost:8080/",
          "height": 317
        }
      },
      "cell_type": "code",
      "source": [
        "# map_city = pd.DataFrame()\n",
        "# #net_change_bikes_result = [-4.0464783, -0.31860352, -1.8529, -4.15972, -5.093322]\n",
        "map_city ['net_change_bikes_result'] = net_change_bikes_result\n",
        "map_city"
      ],
      "execution_count": 0,
      "outputs": [
        {
          "output_type": "execute_result",
          "data": {
            "text/html": [
              "<div>\n",
              "<style scoped>\n",
              "    .dataframe tbody tr th:only-of-type {\n",
              "        vertical-align: middle;\n",
              "    }\n",
              "\n",
              "    .dataframe tbody tr th {\n",
              "        vertical-align: top;\n",
              "    }\n",
              "\n",
              "    .dataframe thead th {\n",
              "        text-align: right;\n",
              "    }\n",
              "</style>\n",
              "<table border=\"1\" class=\"dataframe\">\n",
              "  <thead>\n",
              "    <tr style=\"text-align: right;\">\n",
              "      <th></th>\n",
              "      <th>Id</th>\n",
              "      <th>Name</th>\n",
              "      <th>Lat</th>\n",
              "      <th>Long</th>\n",
              "      <th>Dock Count</th>\n",
              "      <th>City</th>\n",
              "      <th>net_change_bikes_result</th>\n",
              "    </tr>\n",
              "  </thead>\n",
              "  <tbody>\n",
              "    <tr>\n",
              "      <th>14</th>\n",
              "      <td>21</td>\n",
              "      <td>Franklin at Maple</td>\n",
              "      <td>37.481758</td>\n",
              "      <td>-122.226904</td>\n",
              "      <td>15</td>\n",
              "      <td>Redwood City</td>\n",
              "      <td>[0.20379638671875]</td>\n",
              "    </tr>\n",
              "    <tr>\n",
              "      <th>15</th>\n",
              "      <td>22</td>\n",
              "      <td>Redwood City Caltrain Station</td>\n",
              "      <td>37.486078</td>\n",
              "      <td>-122.232089</td>\n",
              "      <td>25</td>\n",
              "      <td>Redwood City</td>\n",
              "      <td>[-4.219818115234375]</td>\n",
              "    </tr>\n",
              "    <tr>\n",
              "      <th>16</th>\n",
              "      <td>23</td>\n",
              "      <td>San Mateo County Center</td>\n",
              "      <td>37.488501</td>\n",
              "      <td>-122.231061</td>\n",
              "      <td>15</td>\n",
              "      <td>Redwood City</td>\n",
              "      <td>[-11.271697998046875]</td>\n",
              "    </tr>\n",
              "    <tr>\n",
              "      <th>17</th>\n",
              "      <td>85</td>\n",
              "      <td>San Mateo County Center</td>\n",
              "      <td>37.487616</td>\n",
              "      <td>-122.229951</td>\n",
              "      <td>15</td>\n",
              "      <td>Redwood City</td>\n",
              "      <td>[-10.52154541015625]</td>\n",
              "    </tr>\n",
              "    <tr>\n",
              "      <th>18</th>\n",
              "      <td>24</td>\n",
              "      <td>Redwood City Public Library</td>\n",
              "      <td>37.484219</td>\n",
              "      <td>-122.227424</td>\n",
              "      <td>15</td>\n",
              "      <td>Redwood City</td>\n",
              "      <td>[0.0443115234375]</td>\n",
              "    </tr>\n",
              "    <tr>\n",
              "      <th>19</th>\n",
              "      <td>25</td>\n",
              "      <td>Broadway at Main</td>\n",
              "      <td>37.486725</td>\n",
              "      <td>-122.225551</td>\n",
              "      <td>15</td>\n",
              "      <td>Redwood City</td>\n",
              "      <td>[-4.69818115234375]</td>\n",
              "    </tr>\n",
              "    <tr>\n",
              "      <th>20</th>\n",
              "      <td>86</td>\n",
              "      <td>Stanford in Redwood City</td>\n",
              "      <td>37.485370</td>\n",
              "      <td>-122.203288</td>\n",
              "      <td>15</td>\n",
              "      <td>Redwood City</td>\n",
              "      <td>[-11.679412841796875]</td>\n",
              "    </tr>\n",
              "    <tr>\n",
              "      <th>21</th>\n",
              "      <td>26</td>\n",
              "      <td>Redwood City Medical Center</td>\n",
              "      <td>37.487682</td>\n",
              "      <td>-122.223492</td>\n",
              "      <td>15</td>\n",
              "      <td>Redwood City</td>\n",
              "      <td>[1.942596435546875]</td>\n",
              "    </tr>\n",
              "    <tr>\n",
              "      <th>74</th>\n",
              "      <td>83</td>\n",
              "      <td>Mezes Park</td>\n",
              "      <td>37.491269</td>\n",
              "      <td>-122.236234</td>\n",
              "      <td>15</td>\n",
              "      <td>Redwood City</td>\n",
              "      <td>[-4.241058349609375]</td>\n",
              "    </tr>\n",
              "  </tbody>\n",
              "</table>\n",
              "</div>"
            ],
            "text/plain": [
              "    Id                           Name        Lat        Long  Dock Count  \\\n",
              "14  21              Franklin at Maple  37.481758 -122.226904          15   \n",
              "15  22  Redwood City Caltrain Station  37.486078 -122.232089          25   \n",
              "16  23        San Mateo County Center  37.488501 -122.231061          15   \n",
              "17  85        San Mateo County Center  37.487616 -122.229951          15   \n",
              "18  24    Redwood City Public Library  37.484219 -122.227424          15   \n",
              "19  25               Broadway at Main  37.486725 -122.225551          15   \n",
              "20  86       Stanford in Redwood City  37.485370 -122.203288          15   \n",
              "21  26    Redwood City Medical Center  37.487682 -122.223492          15   \n",
              "74  83                     Mezes Park  37.491269 -122.236234          15   \n",
              "\n",
              "            City net_change_bikes_result  \n",
              "14  Redwood City      [0.20379638671875]  \n",
              "15  Redwood City    [-4.219818115234375]  \n",
              "16  Redwood City   [-11.271697998046875]  \n",
              "17  Redwood City    [-10.52154541015625]  \n",
              "18  Redwood City       [0.0443115234375]  \n",
              "19  Redwood City     [-4.69818115234375]  \n",
              "20  Redwood City   [-11.679412841796875]  \n",
              "21  Redwood City     [1.942596435546875]  \n",
              "74  Redwood City    [-4.241058349609375]  "
            ]
          },
          "metadata": {
            "tags": []
          },
          "execution_count": 33
        }
      ]
    },
    {
      "metadata": {
        "id": "PfnpCZtq1khO",
        "colab_type": "code",
        "outputId": "048c9f22-3eb5-448f-9250-d76ac7440ddd",
        "colab": {
          "base_uri": "https://localhost:8080/",
          "height": 176
        }
      },
      "cell_type": "code",
      "source": [
        "map_city"
      ],
      "execution_count": 0,
      "outputs": [
        {
          "output_type": "execute_result",
          "data": {
            "text/plain": [
              "[[0.20379638671875],\n",
              " [-4.219818115234375],\n",
              " [-11.271697998046875],\n",
              " [-10.52154541015625],\n",
              " [0.0443115234375],\n",
              " [-4.69818115234375],\n",
              " [-11.679412841796875],\n",
              " [1.942596435546875],\n",
              " [-4.241058349609375]]"
            ]
          },
          "metadata": {
            "tags": []
          },
          "execution_count": 27
        }
      ]
    },
    {
      "metadata": {
        "id": "xMvvk1A20zOl",
        "colab_type": "code",
        "colab": {}
      },
      "cell_type": "code",
      "source": [
        "city_coordinates = {'Palo Alto' : [37.4419, -122.1430],\n",
        "                   'San Francisco' : [37.7749,-122.4194],\n",
        "                   'Mountain View' : [37.3861, -122.0839],\n",
        "                   'Redwood City' : [37.4852, -122.2364],\n",
        "                   'San Jose' : [37.3382, -121.8863]\n",
        "                   }"
      ],
      "execution_count": 0,
      "outputs": []
    },
    {
      "metadata": {
        "id": "xbHuyUiI3C2m",
        "colab_type": "code",
        "outputId": "92194927-8da0-4b6e-b004-06d9fa96ef8e",
        "colab": {
          "base_uri": "https://localhost:8080/",
          "height": 820
        }
      },
      "cell_type": "code",
      "source": [
        "map_center = city_coordinates[City]\n",
        "map_zoom = 14\n",
        "station_map = folium.Map(location=map_center, zoom_start=map_zoom)\n",
        "#folium.Marker([45, -30], popup='inline implicit popup').add_to(station_map)   ###\n",
        "coordinates = map_city[['Lat', 'Long',  'Id', 'Name', 'net_change_bikes_result']]\n",
        "for lat,long, Id, name , net_change_bikes_result in coordinates.values:\n",
        "  #print (lat,long,Id)\n",
        "  folium.CircleMarker([lat,long],\n",
        "                    radius = 50, popup= f'Net change in bikes {net_change_bikes_result} Station ID {str(Id)}',\n",
        "                    \n",
        "                    color = '#dd0000', fill_color = '#dd0000',).add_to(station_map)\n",
        "station_map"
      ],
      "execution_count": 0,
      "outputs": [
        {
          "output_type": "execute_result",
          "data": {
            "text/html": [
              "<div style=\"width:100%;\"><div style=\"position:relative;width:100%;height:0;padding-bottom:60%;\"><iframe src=\"data:text/html;base64,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\" style=\"position:absolute;width:100%;height:100%;left:0;top:0;\"></iframe></div></div>"
            ],
            "text/plain": [
              "<folium.folium.Map at 0x7f027134d780>"
            ]
          },
          "metadata": {
            "tags": []
          },
          "execution_count": 29
        }
      ]
    },
    {
      "metadata": {
        "id": "l5bKvdZj1_n7",
        "colab_type": "code",
        "colab": {}
      },
      "cell_type": "code",
      "source": [
        ""
      ],
      "execution_count": 0,
      "outputs": []
    },
    {
      "metadata": {
        "id": "XTIX570o1kUM",
        "colab_type": "code",
        "outputId": "35d98373-8198-400c-8e2b-c36a497e06d8",
        "colab": {
          "base_uri": "https://localhost:8080/",
          "height": 34
        }
      },
      "cell_type": "code",
      "source": [
        "city_coordinates[City]"
      ],
      "execution_count": 0,
      "outputs": [
        {
          "output_type": "execute_result",
          "data": {
            "text/plain": [
              "[37.4852, -122.2364]"
            ]
          },
          "metadata": {
            "tags": []
          },
          "execution_count": 30
        }
      ]
    }
  ]
}
