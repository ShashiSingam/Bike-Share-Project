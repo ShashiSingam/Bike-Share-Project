{
  "nbformat": 4,
  "nbformat_minor": 0,
  "metadata": {
    "colab": {
      "name": "Copy of Final_EDA_Merging.ipynb",
      "version": "0.3.2",
      "provenance": [],
      "collapsed_sections": []
    },
    "kernelspec": {
      "name": "python3",
      "display_name": "Python 3"
    }
  },
  "cells": [
    {
      "cell_type": "code",
      "metadata": {
        "id": "pp52xZHiccwW",
        "colab_type": "code",
        "colab": {}
      },
      "source": [
        "import pandas as pd\n",
        "import numpy as np\n",
        "import matplotlib.pyplot as plt\n",
        "import seaborn as sns\n",
        "import random\n",
        "import pickle\n",
        "#import geopandas\n",
        "from shapely.geometry import Point\n"
      ],
      "execution_count": 0,
      "outputs": []
    },
    {
      "cell_type": "code",
      "metadata": {
        "id": "9lmJ37R_c-5B",
        "colab_type": "code",
        "outputId": "7b522f59-0ad6-4f77-823f-a50fccef229c",
        "colab": {
          "base_uri": "https://localhost:8080/",
          "height": 125
        }
      },
      "source": [
        "from google.colab import drive\n",
        "drive.mount('/content/drive/')"
      ],
      "execution_count": 0,
      "outputs": [
        {
          "output_type": "stream",
          "text": [
            "Go to this URL in a browser: https://accounts.google.com/o/oauth2/auth?client_id=947318989803-6bn6qk8qdgf4n4g3pfee6491hc0brc4i.apps.googleusercontent.com&redirect_uri=urn%3Aietf%3Awg%3Aoauth%3A2.0%3Aoob&scope=email%20https%3A%2F%2Fwww.googleapis.com%2Fauth%2Fdocs.test%20https%3A%2F%2Fwww.googleapis.com%2Fauth%2Fdrive%20https%3A%2F%2Fwww.googleapis.com%2Fauth%2Fdrive.photos.readonly%20https%3A%2F%2Fwww.googleapis.com%2Fauth%2Fpeopleapi.readonly&response_type=code\n",
            "\n",
            "Enter your authorization code:\n",
            "··········\n",
            "Mounted at /content/drive/\n"
          ],
          "name": "stdout"
        }
      ]
    },
    {
      "cell_type": "code",
      "metadata": {
        "id": "U5wvFYNlcpqA",
        "colab_type": "code",
        "colab": {}
      },
      "source": [
        "station_data_orig = pd.read_csv(\"/content/drive/My Drive/Data/Bikes_data/data/station_data.csv\")\n",
        "trip_data_orig = pd.read_csv('/content/drive/My Drive/Data/Bikes_data/data/trip_data.csv')\n",
        "weather_data_orig = pd.read_csv('/content/drive/My Drive/Data/Bikes_data/data/weather_data.csv')"
      ],
      "execution_count": 0,
      "outputs": []
    },
    {
      "cell_type": "markdown",
      "metadata": {
        "id": "zucrGH6xl0iA",
        "colab_type": "text"
      },
      "source": [
        "Copying datasets to another dataframe"
      ]
    },
    {
      "cell_type": "code",
      "metadata": {
        "id": "yGTRARf3jNgC",
        "colab_type": "code",
        "colab": {}
      },
      "source": [
        "station_data_dup = station_data_orig.copy()\n",
        "weather_data_dup = weather_data_orig.copy()\n",
        "trip_data_dup = trip_data_orig.copy()"
      ],
      "execution_count": 0,
      "outputs": []
    },
    {
      "cell_type": "code",
      "metadata": {
        "id": "9YOsVCaskErB",
        "colab_type": "code",
        "outputId": "4e4ff438-7153-4f33-e469-149f9f2efa2b",
        "colab": {
          "base_uri": "https://localhost:8080/",
          "height": 197
        }
      },
      "source": [
        "station_data_dup.head(5)"
      ],
      "execution_count": 0,
      "outputs": [
        {
          "output_type": "execute_result",
          "data": {
            "text/html": [
              "<div>\n",
              "<style scoped>\n",
              "    .dataframe tbody tr th:only-of-type {\n",
              "        vertical-align: middle;\n",
              "    }\n",
              "\n",
              "    .dataframe tbody tr th {\n",
              "        vertical-align: top;\n",
              "    }\n",
              "\n",
              "    .dataframe thead th {\n",
              "        text-align: right;\n",
              "    }\n",
              "</style>\n",
              "<table border=\"1\" class=\"dataframe\">\n",
              "  <thead>\n",
              "    <tr style=\"text-align: right;\">\n",
              "      <th></th>\n",
              "      <th>Id</th>\n",
              "      <th>Name</th>\n",
              "      <th>Lat</th>\n",
              "      <th>Long</th>\n",
              "      <th>Dock Count</th>\n",
              "      <th>City</th>\n",
              "    </tr>\n",
              "  </thead>\n",
              "  <tbody>\n",
              "    <tr>\n",
              "      <th>0</th>\n",
              "      <td>2</td>\n",
              "      <td>San Jose Diridon Caltrain Station</td>\n",
              "      <td>37.329732</td>\n",
              "      <td>-121.901782</td>\n",
              "      <td>27</td>\n",
              "      <td>San Jose</td>\n",
              "    </tr>\n",
              "    <tr>\n",
              "      <th>1</th>\n",
              "      <td>3</td>\n",
              "      <td>San Jose Civic Center</td>\n",
              "      <td>37.330698</td>\n",
              "      <td>-121.888979</td>\n",
              "      <td>15</td>\n",
              "      <td>San Jose</td>\n",
              "    </tr>\n",
              "    <tr>\n",
              "      <th>2</th>\n",
              "      <td>4</td>\n",
              "      <td>Santa Clara at Almaden</td>\n",
              "      <td>37.333988</td>\n",
              "      <td>-121.894902</td>\n",
              "      <td>11</td>\n",
              "      <td>San Jose</td>\n",
              "    </tr>\n",
              "    <tr>\n",
              "      <th>3</th>\n",
              "      <td>5</td>\n",
              "      <td>Adobe on Almaden</td>\n",
              "      <td>37.331415</td>\n",
              "      <td>-121.893200</td>\n",
              "      <td>19</td>\n",
              "      <td>San Jose</td>\n",
              "    </tr>\n",
              "    <tr>\n",
              "      <th>4</th>\n",
              "      <td>6</td>\n",
              "      <td>San Pedro Square</td>\n",
              "      <td>37.336721</td>\n",
              "      <td>-121.894074</td>\n",
              "      <td>15</td>\n",
              "      <td>San Jose</td>\n",
              "    </tr>\n",
              "  </tbody>\n",
              "</table>\n",
              "</div>"
            ],
            "text/plain": [
              "   Id                               Name        Lat        Long  Dock Count  \\\n",
              "0   2  San Jose Diridon Caltrain Station  37.329732 -121.901782          27   \n",
              "1   3              San Jose Civic Center  37.330698 -121.888979          15   \n",
              "2   4             Santa Clara at Almaden  37.333988 -121.894902          11   \n",
              "3   5                   Adobe on Almaden  37.331415 -121.893200          19   \n",
              "4   6                   San Pedro Square  37.336721 -121.894074          15   \n",
              "\n",
              "       City  \n",
              "0  San Jose  \n",
              "1  San Jose  \n",
              "2  San Jose  \n",
              "3  San Jose  \n",
              "4  San Jose  "
            ]
          },
          "metadata": {
            "tags": []
          },
          "execution_count": 12
        }
      ]
    },
    {
      "cell_type": "code",
      "metadata": {
        "id": "ZpEn_zYVELP8",
        "colab_type": "code",
        "outputId": "ea7e0695-ea78-45e1-de57-92d8d76a3b17",
        "colab": {
          "base_uri": "https://localhost:8080/",
          "height": 280
        }
      },
      "source": [
        "weather_data_dup.head()"
      ],
      "execution_count": 0,
      "outputs": [
        {
          "output_type": "execute_result",
          "data": {
            "text/html": [
              "<div>\n",
              "<style scoped>\n",
              "    .dataframe tbody tr th:only-of-type {\n",
              "        vertical-align: middle;\n",
              "    }\n",
              "\n",
              "    .dataframe tbody tr th {\n",
              "        vertical-align: top;\n",
              "    }\n",
              "\n",
              "    .dataframe thead th {\n",
              "        text-align: right;\n",
              "    }\n",
              "</style>\n",
              "<table border=\"1\" class=\"dataframe\">\n",
              "  <thead>\n",
              "    <tr style=\"text-align: right;\">\n",
              "      <th></th>\n",
              "      <th>Date</th>\n",
              "      <th>Max TemperatureF</th>\n",
              "      <th>Mean TemperatureF</th>\n",
              "      <th>Min TemperatureF</th>\n",
              "      <th>Max Dew PointF</th>\n",
              "      <th>MeanDew PointF</th>\n",
              "      <th>Min DewpointF</th>\n",
              "      <th>Max Humidity</th>\n",
              "      <th>Mean Humidity</th>\n",
              "      <th>Min Humidity</th>\n",
              "      <th>...</th>\n",
              "      <th>Mean VisibilityMiles</th>\n",
              "      <th>Min VisibilityMiles</th>\n",
              "      <th>Max Wind SpeedMPH</th>\n",
              "      <th>Mean Wind SpeedMPH</th>\n",
              "      <th>Max Gust SpeedMPH</th>\n",
              "      <th>PrecipitationIn</th>\n",
              "      <th>CloudCover</th>\n",
              "      <th>Events</th>\n",
              "      <th>WindDirDegrees</th>\n",
              "      <th>Zip</th>\n",
              "    </tr>\n",
              "  </thead>\n",
              "  <tbody>\n",
              "    <tr>\n",
              "      <th>0</th>\n",
              "      <td>01/09/2014</td>\n",
              "      <td>83.0</td>\n",
              "      <td>70.0</td>\n",
              "      <td>57.0</td>\n",
              "      <td>58.0</td>\n",
              "      <td>56.0</td>\n",
              "      <td>52.0</td>\n",
              "      <td>86.0</td>\n",
              "      <td>64.0</td>\n",
              "      <td>42.0</td>\n",
              "      <td>...</td>\n",
              "      <td>10.0</td>\n",
              "      <td>8.0</td>\n",
              "      <td>16.0</td>\n",
              "      <td>7.0</td>\n",
              "      <td>20.0</td>\n",
              "      <td>0.0</td>\n",
              "      <td>0.0</td>\n",
              "      <td>NaN</td>\n",
              "      <td>290.0</td>\n",
              "      <td>94107</td>\n",
              "    </tr>\n",
              "    <tr>\n",
              "      <th>1</th>\n",
              "      <td>02/09/2014</td>\n",
              "      <td>72.0</td>\n",
              "      <td>66.0</td>\n",
              "      <td>60.0</td>\n",
              "      <td>58.0</td>\n",
              "      <td>57.0</td>\n",
              "      <td>55.0</td>\n",
              "      <td>84.0</td>\n",
              "      <td>73.0</td>\n",
              "      <td>61.0</td>\n",
              "      <td>...</td>\n",
              "      <td>10.0</td>\n",
              "      <td>7.0</td>\n",
              "      <td>21.0</td>\n",
              "      <td>8.0</td>\n",
              "      <td>NaN</td>\n",
              "      <td>0.0</td>\n",
              "      <td>5.0</td>\n",
              "      <td>NaN</td>\n",
              "      <td>290.0</td>\n",
              "      <td>94107</td>\n",
              "    </tr>\n",
              "    <tr>\n",
              "      <th>2</th>\n",
              "      <td>03/09/2014</td>\n",
              "      <td>76.0</td>\n",
              "      <td>69.0</td>\n",
              "      <td>61.0</td>\n",
              "      <td>57.0</td>\n",
              "      <td>56.0</td>\n",
              "      <td>55.0</td>\n",
              "      <td>84.0</td>\n",
              "      <td>69.0</td>\n",
              "      <td>53.0</td>\n",
              "      <td>...</td>\n",
              "      <td>10.0</td>\n",
              "      <td>10.0</td>\n",
              "      <td>21.0</td>\n",
              "      <td>8.0</td>\n",
              "      <td>24.0</td>\n",
              "      <td>0.0</td>\n",
              "      <td>4.0</td>\n",
              "      <td>NaN</td>\n",
              "      <td>276.0</td>\n",
              "      <td>94107</td>\n",
              "    </tr>\n",
              "    <tr>\n",
              "      <th>3</th>\n",
              "      <td>04/09/2014</td>\n",
              "      <td>74.0</td>\n",
              "      <td>68.0</td>\n",
              "      <td>61.0</td>\n",
              "      <td>57.0</td>\n",
              "      <td>57.0</td>\n",
              "      <td>56.0</td>\n",
              "      <td>84.0</td>\n",
              "      <td>71.0</td>\n",
              "      <td>57.0</td>\n",
              "      <td>...</td>\n",
              "      <td>10.0</td>\n",
              "      <td>8.0</td>\n",
              "      <td>22.0</td>\n",
              "      <td>8.0</td>\n",
              "      <td>25.0</td>\n",
              "      <td>0.0</td>\n",
              "      <td>5.0</td>\n",
              "      <td>NaN</td>\n",
              "      <td>301.0</td>\n",
              "      <td>94107</td>\n",
              "    </tr>\n",
              "    <tr>\n",
              "      <th>4</th>\n",
              "      <td>05/09/2014</td>\n",
              "      <td>72.0</td>\n",
              "      <td>66.0</td>\n",
              "      <td>60.0</td>\n",
              "      <td>57.0</td>\n",
              "      <td>56.0</td>\n",
              "      <td>54.0</td>\n",
              "      <td>84.0</td>\n",
              "      <td>71.0</td>\n",
              "      <td>57.0</td>\n",
              "      <td>...</td>\n",
              "      <td>9.0</td>\n",
              "      <td>7.0</td>\n",
              "      <td>18.0</td>\n",
              "      <td>8.0</td>\n",
              "      <td>32.0</td>\n",
              "      <td>0.0</td>\n",
              "      <td>4.0</td>\n",
              "      <td>NaN</td>\n",
              "      <td>309.0</td>\n",
              "      <td>94107</td>\n",
              "    </tr>\n",
              "  </tbody>\n",
              "</table>\n",
              "<p>5 rows × 24 columns</p>\n",
              "</div>"
            ],
            "text/plain": [
              "         Date  Max TemperatureF  Mean TemperatureF  Min TemperatureF  \\\n",
              "0  01/09/2014              83.0               70.0              57.0   \n",
              "1  02/09/2014              72.0               66.0              60.0   \n",
              "2  03/09/2014              76.0               69.0              61.0   \n",
              "3  04/09/2014              74.0               68.0              61.0   \n",
              "4  05/09/2014              72.0               66.0              60.0   \n",
              "\n",
              "   Max Dew PointF  MeanDew PointF  Min DewpointF  Max Humidity  Mean Humidity  \\\n",
              "0            58.0            56.0           52.0          86.0           64.0   \n",
              "1            58.0            57.0           55.0          84.0           73.0   \n",
              "2            57.0            56.0           55.0          84.0           69.0   \n",
              "3            57.0            57.0           56.0          84.0           71.0   \n",
              "4            57.0            56.0           54.0          84.0           71.0   \n",
              "\n",
              "   Min Humidity  ...    Mean VisibilityMiles  Min VisibilityMiles  \\\n",
              "0          42.0  ...                    10.0                  8.0   \n",
              "1          61.0  ...                    10.0                  7.0   \n",
              "2          53.0  ...                    10.0                 10.0   \n",
              "3          57.0  ...                    10.0                  8.0   \n",
              "4          57.0  ...                     9.0                  7.0   \n",
              "\n",
              "   Max Wind SpeedMPH  Mean Wind SpeedMPH  Max Gust SpeedMPH  PrecipitationIn  \\\n",
              "0               16.0                 7.0               20.0              0.0   \n",
              "1               21.0                 8.0                NaN              0.0   \n",
              "2               21.0                 8.0               24.0              0.0   \n",
              "3               22.0                 8.0               25.0              0.0   \n",
              "4               18.0                 8.0               32.0              0.0   \n",
              "\n",
              "   CloudCover  Events  WindDirDegrees    Zip  \n",
              "0         0.0     NaN           290.0  94107  \n",
              "1         5.0     NaN           290.0  94107  \n",
              "2         4.0     NaN           276.0  94107  \n",
              "3         5.0     NaN           301.0  94107  \n",
              "4         4.0     NaN           309.0  94107  \n",
              "\n",
              "[5 rows x 24 columns]"
            ]
          },
          "metadata": {
            "tags": []
          },
          "execution_count": 13
        }
      ]
    },
    {
      "cell_type": "code",
      "metadata": {
        "id": "e6REFkBFEawb",
        "colab_type": "code",
        "outputId": "f993870f-bbb6-498a-bed9-fc124da99f79",
        "colab": {
          "base_uri": "https://localhost:8080/",
          "height": 197
        }
      },
      "source": [
        "trip_data_dup.head()"
      ],
      "execution_count": 0,
      "outputs": [
        {
          "output_type": "execute_result",
          "data": {
            "text/html": [
              "<div>\n",
              "<style scoped>\n",
              "    .dataframe tbody tr th:only-of-type {\n",
              "        vertical-align: middle;\n",
              "    }\n",
              "\n",
              "    .dataframe tbody tr th {\n",
              "        vertical-align: top;\n",
              "    }\n",
              "\n",
              "    .dataframe thead th {\n",
              "        text-align: right;\n",
              "    }\n",
              "</style>\n",
              "<table border=\"1\" class=\"dataframe\">\n",
              "  <thead>\n",
              "    <tr style=\"text-align: right;\">\n",
              "      <th></th>\n",
              "      <th>Trip ID</th>\n",
              "      <th>Start Date</th>\n",
              "      <th>Start Station</th>\n",
              "      <th>End Date</th>\n",
              "      <th>End Station</th>\n",
              "      <th>Subscriber Type</th>\n",
              "    </tr>\n",
              "  </thead>\n",
              "  <tbody>\n",
              "    <tr>\n",
              "      <th>0</th>\n",
              "      <td>913460</td>\n",
              "      <td>31/08/2015 23:26</td>\n",
              "      <td>50</td>\n",
              "      <td>31/08/2015 23:39</td>\n",
              "      <td>70</td>\n",
              "      <td>Subscriber</td>\n",
              "    </tr>\n",
              "    <tr>\n",
              "      <th>1</th>\n",
              "      <td>913459</td>\n",
              "      <td>31/08/2015 23:11</td>\n",
              "      <td>31</td>\n",
              "      <td>31/08/2015 23:28</td>\n",
              "      <td>27</td>\n",
              "      <td>Subscriber</td>\n",
              "    </tr>\n",
              "    <tr>\n",
              "      <th>2</th>\n",
              "      <td>913455</td>\n",
              "      <td>31/08/2015 23:13</td>\n",
              "      <td>47</td>\n",
              "      <td>31/08/2015 23:18</td>\n",
              "      <td>64</td>\n",
              "      <td>Subscriber</td>\n",
              "    </tr>\n",
              "    <tr>\n",
              "      <th>3</th>\n",
              "      <td>913454</td>\n",
              "      <td>31/08/2015 23:10</td>\n",
              "      <td>10</td>\n",
              "      <td>31/08/2015 23:17</td>\n",
              "      <td>8</td>\n",
              "      <td>Subscriber</td>\n",
              "    </tr>\n",
              "    <tr>\n",
              "      <th>4</th>\n",
              "      <td>913453</td>\n",
              "      <td>31/08/2015 23:09</td>\n",
              "      <td>51</td>\n",
              "      <td>31/08/2015 23:22</td>\n",
              "      <td>60</td>\n",
              "      <td>Customer</td>\n",
              "    </tr>\n",
              "  </tbody>\n",
              "</table>\n",
              "</div>"
            ],
            "text/plain": [
              "   Trip ID        Start Date  Start Station          End Date  End Station  \\\n",
              "0   913460  31/08/2015 23:26             50  31/08/2015 23:39           70   \n",
              "1   913459  31/08/2015 23:11             31  31/08/2015 23:28           27   \n",
              "2   913455  31/08/2015 23:13             47  31/08/2015 23:18           64   \n",
              "3   913454  31/08/2015 23:10             10  31/08/2015 23:17            8   \n",
              "4   913453  31/08/2015 23:09             51  31/08/2015 23:22           60   \n",
              "\n",
              "  Subscriber Type  \n",
              "0      Subscriber  \n",
              "1      Subscriber  \n",
              "2      Subscriber  \n",
              "3      Subscriber  \n",
              "4        Customer  "
            ]
          },
          "metadata": {
            "tags": []
          },
          "execution_count": 14
        }
      ]
    },
    {
      "cell_type": "markdown",
      "metadata": {
        "id": "kIDEKLFyl5Re",
        "colab_type": "text"
      },
      "source": [
        "#Assigning the station_id that is of interest"
      ]
    },
    {
      "cell_type": "code",
      "metadata": {
        "id": "Ow5qJRHFiHjB",
        "colab_type": "code",
        "colab": {}
      },
      "source": [
        "# Assigining the constants\n",
        "station_id = 50"
      ],
      "execution_count": 0,
      "outputs": []
    },
    {
      "cell_type": "markdown",
      "metadata": {
        "id": "nwcc1yRaEi9J",
        "colab_type": "text"
      },
      "source": [
        "##Defining functions to explore and modify dataset\n",
        "\n",
        "###Processing function for station dataset"
      ]
    },
    {
      "cell_type": "code",
      "metadata": {
        "id": "aXy2mSCYkE5Y",
        "colab_type": "code",
        "colab": {}
      },
      "source": [
        "def preprocess_features_station(df):\n",
        "    '''Prepares input features\n",
        "    and for now it also drops \"Name\" column\n",
        "    and changes the \"moved station id\" as mentioned in the problem'''\n",
        "       \n",
        "    selected_features = df [[ \"Id\", \n",
        "                                          \"Dock Count\",\n",
        "                                          \"City\"]]\n",
        "    \n",
        "    processed_features_station = selected_features.copy()\n",
        "    #From the question it says some of the following stations are moved to the new numbers\n",
        "    number_mapping = { 23: 85 , 25 : 86, 49 : 87, 69 : 88, 72 : 90}\n",
        "\n",
        "    processed_features_station['Id']= processed_features_station ['Id'].replace(number_mapping)\n",
        "    print (\"shape of the station dataframe is :\",processed_features_station.shape )\n",
        "    \n",
        "    return processed_features_station"
      ],
      "execution_count": 0,
      "outputs": []
    },
    {
      "cell_type": "markdown",
      "metadata": {
        "id": "iV9Mwtt5xx2a",
        "colab_type": "text"
      },
      "source": [
        "###Processing function for weather dataset\n",
        "There is not much of data processing this series because it is a weather report of each day. \n",
        "More exploring of the data can be done when this dataframe is merged with the trip dataframe were we can observe the effect of each column on cycle ride"
      ]
    },
    {
      "cell_type": "code",
      "metadata": {
        "id": "mLFjKRE_yOVO",
        "colab_type": "code",
        "colab": {}
      },
      "source": [
        "def preprocess_features_weather(df):\n",
        "    '''Prepares input features\n",
        "    and for now it also drops \"Name\" column\n",
        "    and changes the \"moved station id\" as mentioned in the problem'''\n",
        "       \n",
        "    selected_features = df \n",
        "    \n",
        "    processed_features_weather = selected_features.copy()\n",
        "    #Lets check for NaN values\n",
        "    total = weather_data_dup.isnull().sum().sort_values(ascending = False)\n",
        "    percentage = (weather_data_dup.isnull().sum()/weather_data_dup.isnull().count()).sort_values(ascending = False) *100\n",
        "    missing_data = pd.concat ([total,percentage], axis = 1, keys =  ['total', 'percentage'])\n",
        "    #print (missing_data)\n",
        "    #For the events column the total percentage of \"NaN\" is too high so lets drop that column\n",
        "    processed_features_weather.drop ('Events', axis = 1, inplace = True)\n",
        "    print (\"shape of the weather dataframe is :\",processed_features_weather.shape )\n",
        "    return processed_features_weather"
      ],
      "execution_count": 0,
      "outputs": []
    },
    {
      "cell_type": "markdown",
      "metadata": {
        "id": "5a7iTlbGzhgW",
        "colab_type": "text"
      },
      "source": [
        "###Processing function for trip data set"
      ]
    },
    {
      "cell_type": "code",
      "metadata": {
        "id": "AJwN7J3NznCB",
        "colab_type": "code",
        "colab": {}
      },
      "source": [
        "def preprocess_features_trip(df):\n",
        "    '''Prepares input features\n",
        "    and for now it also drops \"Name\" column\n",
        "    and changes the \"moved station id\" as mentioned in the problem'''\n",
        "       \n",
        "    selected_features = df \n",
        "    \n",
        "    processed_features_trip = selected_features.copy()\n",
        "    #The \"Trip ID\" column in this dataframe is just a sequentially generated random number, which won't be having impact on the prediction, for that reason it is dropped.\n",
        "    processed_features_trip.drop ('Trip ID', axis = 1, inplace = True)\n",
        "    #Replacing categorical values in column 'Subscriber Type' with 0 and 1\n",
        "    trip_data_dup['Subscriber Type'] = trip_data_dup['Subscriber Type'].replace('Subscriber', 1)\n",
        "    trip_data_dup['Subscriber Type'] = trip_data_dup['Subscriber Type'].replace('Customer', 0)\n",
        "    #Analysis of the data\n",
        "    #Calculating each trip duration and converting data into seconds\n",
        "    print (\"shape of the trip dataframe is :\",processed_features_trip.shape )\n",
        "    return processed_features_trip"
      ],
      "execution_count": 0,
      "outputs": []
    },
    {
      "cell_type": "markdown",
      "metadata": {
        "id": "lyxM-JG0iDYR",
        "colab_type": "text"
      },
      "source": [
        "#Analysis of the data\n"
      ]
    },
    {
      "cell_type": "markdown",
      "metadata": {
        "id": "5-2YQmqOMEV6",
        "colab_type": "text"
      },
      "source": [
        "####Analysis of the station data"
      ]
    },
    {
      "cell_type": "code",
      "metadata": {
        "id": "xITpAwINMPB7",
        "colab_type": "code",
        "outputId": "050251bb-dc4e-4689-a602-cf6db98c1903",
        "colab": {
          "base_uri": "https://localhost:8080/",
          "height": 841
        }
      },
      "source": [
        "plt.figure()\n",
        "sns.countplot (x = \"City\", data = station_data_dup)\n",
        "plt.xlabel(\"City\", fontsize = 24)\n",
        "plt.ylabel (\"Count\", fontsize = 24)\n",
        "plt.title (\"Number of bike stations in each city\", fontsize = 32)\n",
        "plt.figure()\n",
        "sns.swarmplot (x = \"City\", y = \"Dock Count\", data = station_data_dup)\n",
        "plt.xlabel(\"City\", fontsize = 24)\n",
        "plt.ylabel (\"Dock Count\", fontsize = 24)\n",
        "plt.title (\"Number of Dock Counts each city\", fontsize = 32)"
      ],
      "execution_count": 0,
      "outputs": [
        {
          "output_type": "stream",
          "text": [
            "/usr/local/lib/python3.6/dist-packages/seaborn/categorical.py:1428: FutureWarning: remove_na is deprecated and is a private function. Do not use.\n",
            "  stat_data = remove_na(group_data)\n"
          ],
          "name": "stderr"
        },
        {
          "output_type": "execute_result",
          "data": {
            "text/plain": [
              "Text(0.5, 1.0, 'Number of Dock Counts each city')"
            ]
          },
          "metadata": {
            "tags": []
          },
          "execution_count": 19
        },
        {
          "output_type": "display_data",
          "data": {
            "image/png": "[encoded data removed]",
            "text/plain": [
              "<Figure size 576x396 with 1 Axes>"
            ]
          },
          "metadata": {
            "tags": []
          }
        },
        {
          "output_type": "display_data",
          "data": {
            "image/png": "[encoded data removed]",
            "text/plain": [
              "<Figure size 576x396 with 1 Axes>"
            ]
          },
          "metadata": {
            "tags": []
          }
        }
      ]
    },
    {
      "cell_type": "markdown",
      "metadata": {
        "id": "VbMAHT4KMN8C",
        "colab_type": "text"
      },
      "source": [
        "###Calculating each trip duration and converting data into seconds"
      ]
    },
    {
      "cell_type": "code",
      "metadata": {
        "id": "ysdx1AaZ0aFr",
        "colab_type": "code",
        "outputId": "089e812a-2202-4d79-a346-e33994283a43",
        "colab": {
          "base_uri": "https://localhost:8080/",
          "height": 428
        }
      },
      "source": [
        "# For knowing the trip duration we have to subtract the time between \"Start Station\" and \"End Station\". For doing that we should first convert those column into pandas datetime format\n",
        "trip_data_dup[\"Start Date\"] = pd.to_datetime (trip_data_dup[\"Start Date\"])\n",
        "trip_data_dup[\"End Date\"] = pd.to_datetime (trip_data_dup[\"End Date\"])\n",
        "#Add trip duration intervals\n",
        "\n",
        "trip_data_dup['time'] = trip_data_dup['End Date']-trip_data_dup['Start Date']\n",
        "# convert from timedelta type to seconds\n",
        "trip_data_dup['time_seconds'] = pd.Series(trip_data_dup['time'], dtype='int64').abs() / (1000*1000*1000)\n",
        "\n",
        "#PLOTTING THE TRI DURATION#\n",
        "\n",
        "(trip_data_dup['time_seconds']/60).hist(bins=40, range=(0, 60), xlabelsize=20, ylabelsize=20) # converting the data from seconds to minutes\n",
        "#plt.text(30.1, 20500, 'Median: %.2f' % (duration_mean), fontsize=30)\n",
        "#plt.text(30.1, 15500, '%d %% percentile: %.2f' % (percentile_lim*100 ,percentile), fontsize=30)\n",
        "plt.xlabel('Time in minutes', fontsize=24)\n",
        "plt.ylabel('Number of trips', fontsize=24)\n",
        "plt.title('Trip Duration', fontsize=32)"
      ],
      "execution_count": 0,
      "outputs": [
        {
          "output_type": "execute_result",
          "data": {
            "text/plain": [
              "Text(0.5, 1.0, 'Trip Duration')"
            ]
          },
          "metadata": {
            "tags": []
          },
          "execution_count": 20
        },
        {
          "output_type": "display_data",
          "data": {
            "image/png": "[encoded data removed]",
            "text/plain": [
              "<Figure size 576x396 with 1 Axes>"
            ]
          },
          "metadata": {
            "tags": []
          }
        }
      ]
    },
    {
      "cell_type": "markdown",
      "metadata": {
        "id": "SMltzf3Knpzq",
        "colab_type": "text"
      },
      "source": [
        "Checking the minimum and maximum trip durations"
      ]
    },
    {
      "cell_type": "code",
      "metadata": {
        "id": "HqfdxsI_iX2X",
        "colab_type": "code",
        "outputId": "6fe02725-65fb-44c8-a0ee-2aff02c84f22",
        "colab": {
          "base_uri": "https://localhost:8080/",
          "height": 34
        }
      },
      "source": [
        "### Do people return to same station often?\n",
        "self_return = trip_data_dup[trip_data_dup['Start Station'].eq(trip_data_dup['End Station'])]\n",
        "print(\"%d %% of the trips go back to same stations\" % (len(self_return)/len(trip_data_dup)*100,))\n",
        "\n",
        "#trip_data_dup['time_seconds'].min()"
      ],
      "execution_count": 0,
      "outputs": [
        {
          "output_type": "stream",
          "text": [
            "2 % of the trips go back to same stations\n"
          ],
          "name": "stdout"
        }
      ]
    },
    {
      "cell_type": "markdown",
      "metadata": {
        "id": "dbIoEolvnzdS",
        "colab_type": "text"
      },
      "source": [
        "Checking the errors in trip data by looking for the trips which are ending at same station under 2 minutes time. These may occur due to possibility of errors"
      ]
    },
    {
      "cell_type": "code",
      "metadata": {
        "id": "pDMDw62Mn0un",
        "colab_type": "code",
        "outputId": "32e2c7d7-306b-44a3-effe-8c761c2652c8",
        "colab": {
          "base_uri": "https://localhost:8080/",
          "height": 52
        }
      },
      "source": [
        "minimum_duration = 2*60\n",
        "own_trips = trip_data_dup[trip_data_dup['Start Station'] == (trip_data_dup['End Station'])]\n",
        "veryshort = own_trips[own_trips['time_seconds'] < minimum_duration]\n",
        "# invalid = trip_data_dup[own_trips['Duration Seconds'] < minimum_duration] \n",
        "print ('Length of very hsort :',len(veryshort))\n",
        "print ('lenght of big:', len(trip_data_dup))"
      ],
      "execution_count": 0,
      "outputs": [
        {
          "output_type": "stream",
          "text": [
            "Length of very hsort : 433\n",
            "lenght of big: 354152\n"
          ],
          "name": "stdout"
        }
      ]
    },
    {
      "cell_type": "markdown",
      "metadata": {
        "id": "zGdXgaYtibKA",
        "colab_type": "text"
      },
      "source": [
        "Plotting the trip duration"
      ]
    },
    {
      "cell_type": "code",
      "metadata": {
        "id": "nW-iOdHBicXR",
        "colab_type": "code",
        "outputId": "4ce70242-dd02-46c7-dabf-7fc44286bb9a",
        "colab": {
          "base_uri": "https://localhost:8080/",
          "height": 553
        }
      },
      "source": [
        "(trip_data_dup['time_seconds']/60).hist(bins=40, range=(0, 60), xlabelsize=20, ylabelsize=20) # converting the data from seconds to minutes\n",
        "#plt.text(30.1, 20500, 'Median: %.2f' % (duration_mean), fontsize=30)\n",
        "#plt.text(30.1, 15500, '%d %% percentile: %.2f' % (percentile_lim*100 ,percentile), fontsize=30)\n",
        "plt.xlabel('Time in minutes', fontsize=24)\n",
        "plt.ylabel('Number of trips', fontsize=24)\n",
        "plt.title('Trip Duration', fontsize=32)\n",
        "\n",
        "valid_trips = trip_data_dup['time_seconds']>minimum_duration\n",
        "valid_trip_data_dup = trip_data_dup[valid_trips]\n",
        "len(valid_trip_data_dup)\n",
        "\n",
        "# Lets see the peak hours\n",
        "valid_trip_data_dup_hour = valid_trip_data_dup.copy()\n",
        "valid_trip_data_dup_hour['weekday'] = valid_trip_data_dup_hour['Start Date'].dt.weekday_name\n",
        "valid_trip_data_dup_hour['hour'] = valid_trip_data_dup_hour['Start Date'].dt.hour\n",
        "valid_trip_data_dup_hour['weekday'].value_counts()"
      ],
      "execution_count": 0,
      "outputs": [
        {
          "output_type": "execute_result",
          "data": {
            "text/plain": [
              "Tuesday      63252\n",
              "Friday       57652\n",
              "Wednesday    57562\n",
              "Monday       54346\n",
              "Thursday     53582\n",
              "Sunday       33318\n",
              "Saturday     27408\n",
              "Name: weekday, dtype: int64"
            ]
          },
          "metadata": {
            "tags": []
          },
          "execution_count": 23
        },
        {
          "output_type": "display_data",
          "data": {
            "image/png": "[encoded data removed]",
            "text/plain": [
              "<Figure size 576x396 with 1 Axes>"
            ]
          },
          "metadata": {
            "tags": []
          }
        }
      ]
    },
    {
      "cell_type": "markdown",
      "metadata": {
        "id": "YhB9jSfcoMfz",
        "colab_type": "text"
      },
      "source": [
        "Differentiating the Weekday and Weekend rides "
      ]
    },
    {
      "cell_type": "code",
      "metadata": {
        "id": "QWo5x5xOigRu",
        "colab_type": "code",
        "outputId": "8a7f58d2-4f09-452b-932c-bbe07bb35eae",
        "colab": {
          "base_uri": "https://localhost:8080/",
          "height": 858
        }
      },
      "source": [
        "valid_trip_data_dup_hour_weekend =  pd.DataFrame (valid_trip_data_dup_hour[(valid_trip_data_dup_hour['weekday'] == 'Saturday') | (valid_trip_data_dup_hour['weekday'] == 'Sunday')])\n",
        "valid_trip_data_dup_hour_workday = pd.DataFrame (valid_trip_data_dup_hour[(valid_trip_data_dup_hour['weekday'] != 'Saturday') & (valid_trip_data_dup_hour['weekday'] != 'Sunday')])\n",
        "\n",
        "len(valid_trip_data_dup_hour_weekend)\n",
        "plt.figure()\n",
        "sns.distplot (valid_trip_data_dup_hour_weekend['hour'])\n",
        "plt.xlabel (\"hour\", fontsize = 24)\n",
        "plt.title (\"Rides per hour during Weekends\", fontsize = 32)\n",
        "plt.figure()\n",
        "sns.distplot (valid_trip_data_dup_hour_workday['hour'])\n",
        "plt.xlabel (\"hour\", fontsize = 24)\n",
        "plt.title (\"Rides per hour during Workday\", fontsize = 32)"
      ],
      "execution_count": 0,
      "outputs": [
        {
          "output_type": "stream",
          "text": [
            "/usr/local/lib/python3.6/dist-packages/matplotlib/axes/_axes.py:6521: MatplotlibDeprecationWarning: \n",
            "The 'normed' kwarg was deprecated in Matplotlib 2.1 and will be removed in 3.1. Use 'density' instead.\n",
            "  alternative=\"'density'\", removal=\"3.1\")\n"
          ],
          "name": "stderr"
        },
        {
          "output_type": "execute_result",
          "data": {
            "text/plain": [
              "Text(0.5, 1.0, 'Rides per hour during Workday')"
            ]
          },
          "metadata": {
            "tags": []
          },
          "execution_count": 24
        },
        {
          "output_type": "display_data",
          "data": {
            "image/png": "[encoded data removed]",
            "text/plain": [
              "<Figure size 576x396 with 1 Axes>"
            ]
          },
          "metadata": {
            "tags": []
          }
        },
        {
          "output_type": "display_data",
          "data": {
            "image/png": "[encoded data removed]",
            "text/plain": [
              "<Figure size 576x396 with 1 Axes>"
            ]
          },
          "metadata": {
            "tags": []
          }
        }
      ]
    },
    {
      "cell_type": "markdown",
      "metadata": {
        "id": "QE_4nUuJ5dLb",
        "colab_type": "text"
      },
      "source": [
        "#Merging of dataframes\n",
        "\n",
        "First merging Station and weather dataframes\n",
        "\n",
        "For doing so there needs to be a common column between two dataframes. That condition is satisfied by mapping column \"Zip\" in weather dataframe to \"City\" . Thus there is a common column between two dataframes and merging is perfromed on the same"
      ]
    },
    {
      "cell_type": "markdown",
      "metadata": {
        "id": "dysQlnram5kg",
        "colab_type": "text"
      },
      "source": [
        "###Merging of station and weather dataset"
      ]
    },
    {
      "cell_type": "code",
      "metadata": {
        "id": "4La-1uNmDcp8",
        "colab_type": "code",
        "outputId": "1b138779-82f7-45d5-a5c8-43a75fe4e435",
        "colab": {
          "base_uri": "https://localhost:8080/",
          "height": 167
        }
      },
      "source": [
        "station_data_dup.head()"
      ],
      "execution_count": 0,
      "outputs": [
        {
          "output_type": "error",
          "ename": "NameError",
          "evalue": "ignored",
          "traceback": [
            "\u001b[0;31m---------------------------------------------------------------------------\u001b[0m",
            "\u001b[0;31mNameError\u001b[0m                                 Traceback (most recent call last)",
            "\u001b[0;32m<ipython-input-1-ad147e4ca74b>\u001b[0m in \u001b[0;36m<module>\u001b[0;34m()\u001b[0m\n\u001b[0;32m----> 1\u001b[0;31m \u001b[0mstation_data_dup\u001b[0m\u001b[0;34m.\u001b[0m\u001b[0mhead\u001b[0m\u001b[0;34m(\u001b[0m\u001b[0;34m)\u001b[0m\u001b[0;34m\u001b[0m\u001b[0;34m\u001b[0m\u001b[0m\n\u001b[0m",
            "\u001b[0;31mNameError\u001b[0m: name 'station_data_dup' is not defined"
          ]
        }
      ]
    },
    {
      "cell_type": "code",
      "metadata": {
        "id": "0paXquhW4lgx",
        "colab_type": "code",
        "colab": {}
      },
      "source": [
        "def merge_weather_station (station, weather):\n",
        "  weather.loc [weather['Zip'] == 94063, 'Zip'] = weather['Zip'].replace (94063 , 'Redwood City')    #Redwood_city_weather['Zip'].replace (94063, 'Redwood City')\n",
        "  weather.loc [weather['Zip'] == 94107, 'Zip'] = weather['Zip'].replace (94107 , 'San Francisco')# Mountain_view_weather['Zip'] =  Mountain_view_weather['Zip'].replace (94041, 'Mountain View')\n",
        "  weather.loc [weather['Zip'] == 94041, 'Zip'] = weather['Zip'].replace (94041 , 'Mountain View')# San_Jose_weather['Zip'] =  San_Jose_weather['Zip'].replace (95113, 'San Jose')\n",
        "  weather.loc [weather['Zip'] == 95113, 'Zip'] = weather['Zip'].replace (95113 , 'San Jose')# Palo_Alto_weather['Zip'] =  Palo_Alto_weather['Zip'].replace (94301, 'Palo Alto')\n",
        "  weather.loc [weather['Zip'] == 94301, 'Zip'] = weather['Zip'].replace (94301 , 'Palo Alto')\n",
        "  weather.rename (columns = { \"Zip\" : \"City\"} , inplace = True) # Renaming the \"zip\" column as \"City\" for merging dataframes \n",
        "  weather_station = weather.merge(station) # Merging two dataframes\n",
        "  print (weather_station.shape)\n",
        "  return weather_station"
      ],
      "execution_count": 0,
      "outputs": []
    },
    {
      "cell_type": "code",
      "metadata": {
        "id": "iQ7_k6IWfOLh",
        "colab_type": "code",
        "outputId": "b7ad2860-7a8a-4991-9daf-68b7dcc72d96",
        "colab": {
          "base_uri": "https://localhost:8080/",
          "height": 87
        }
      },
      "source": [
        "station = preprocess_features_station (station_data_dup)\n",
        "weather = preprocess_features_weather(weather_data_dup)\n",
        "trip = preprocess_features_trip(trip_data_dup)\n",
        "weather_station_dup = merge_weather_station(station, weather)"
      ],
      "execution_count": 0,
      "outputs": [
        {
          "output_type": "stream",
          "text": [
            "shape of the station dataframe is : (76, 3)\n",
            "shape of the weather dataframe is : (1825, 23)\n",
            "shape of the trip dataframe is : (354152, 7)\n",
            "(27740, 25)\n"
          ],
          "name": "stdout"
        }
      ]
    },
    {
      "cell_type": "code",
      "metadata": {
        "id": "woHVb-qT3Yyc",
        "colab_type": "code",
        "colab": {}
      },
      "source": [
        "# Saving the weather_station_dup for pickle\n",
        "pickle_out = open(\"/content/drive/My Drive/Data/Bikes_data/data/weather_station_dup.pickle\", \"wb\")\n",
        "pickle.dump (weather_station_dup, pickle_out)\n",
        "pickle_out.close()"
      ],
      "execution_count": 0,
      "outputs": []
    },
    {
      "cell_type": "markdown",
      "metadata": {
        "id": "q_bcBRF0Lpp2",
        "colab_type": "text"
      },
      "source": [
        "###Trip dataset manipulation, because we have to get the net change in bikes at the desired station"
      ]
    },
    {
      "cell_type": "code",
      "metadata": {
        "id": "s5J2J4NzLhGe",
        "colab_type": "code",
        "colab": {}
      },
      "source": [
        "def number_of_bikes_station_id (station_id):\n",
        "        trip_data_dup_index = trip_data_orig.copy() # copying the dataframe\n",
        "        trip_data_dup_index['Start Date'] = pd.to_datetime (trip_data_dup_index['Start Date'])\n",
        "        trip_data_dup_index['End Date'] = pd.to_datetime (trip_data_dup_index['End Date'])\n",
        "        #trip_data_dup_index.drop ('Trip ID', axis = 1, inplace = True) # droping the column \\\"TripId\\\" because it doesnt give much information\n",
        "        trip_data_dup_index.set_index ('Start Date', inplace = True) # setting the index as \\\"Start date\\\" for the column\\n\",\n",
        "        start_station = trip_data_dup_index[trip_data_dup_index[\"Start Station\"]==station_id].resample('1H').count()\n",
        "        #\"#start_station.reset_index (inplace = True)\\n\",\n",
        "        #print (start_station['Start Station'].head(10))\\n\",\n",
        "        end_station = trip_data_dup_index[trip_data_dup_index[\"End Station\"]==station_id].resample('1H').count()\n",
        "        #end_station.reset_index (inplace = True)\\n\",\n",
        "        #print(end_station['End Station'].head(10))\\n\",\n",
        "        balance_station = pd.concat ([start_station['Start Station'],end_station['End Station']] , axis =1)\n",
        "        print (balance_station)\n",
        "        balance_station.fillna(value = 0, inplace = True)\n",
        "        #balance_station.head(10)\\n\",\n",
        "        balance_station['net_change_bikes']= balance_station['End Station']-balance_station['Start Station']\n",
        "        balance_station['total_bikes_change'] = balance_station['net_change_bikes'].cumsum()\n",
        "        balance_station['total_bikes_pct_change'] = balance_station['total_bikes_change'].pct_change()\n",
        "        balance_station.replace ([np.inf, -np.inf], np.nan , inplace = True)\n",
        "        \n",
        "        #Dock_count = station_data[station_data['Id'] == station_id]['Dock Count']\n",
        "        #    Dock_count = Dock_count.values\\n\",\n",
        "        #     docks = no_of_bikes+Dock_count\\n\",\n",
        "        #     print (docks.min(), docks.max())\\n\",\n",
        "        return balance_station"
      ],
      "execution_count": 0,
      "outputs": []
    },
    {
      "cell_type": "code",
      "metadata": {
        "id": "aRb8p7nXNeKs",
        "colab_type": "code",
        "outputId": "f0f6f571-b202-433d-887f-8ed9c424b747",
        "colab": {
          "base_uri": "https://localhost:8080/",
          "height": 1936
        }
      },
      "source": [
        "number_of_bikes_station_id (50)"
      ],
      "execution_count": 0,
      "outputs": [
        {
          "output_type": "execute_result",
          "data": {
            "text/html": [
              "<div>\n",
              "<style scoped>\n",
              "    .dataframe tbody tr th:only-of-type {\n",
              "        vertical-align: middle;\n",
              "    }\n",
              "\n",
              "    .dataframe tbody tr th {\n",
              "        vertical-align: top;\n",
              "    }\n",
              "\n",
              "    .dataframe thead th {\n",
              "        text-align: right;\n",
              "    }\n",
              "</style>\n",
              "<table border=\"1\" class=\"dataframe\">\n",
              "  <thead>\n",
              "    <tr style=\"text-align: right;\">\n",
              "      <th></th>\n",
              "      <th>Start Station</th>\n",
              "      <th>End Station</th>\n",
              "      <th>net_change_bikes</th>\n",
              "      <th>total_bikes_change</th>\n",
              "      <th>total_bikes_pct_change</th>\n",
              "    </tr>\n",
              "    <tr>\n",
              "      <th>Start Date</th>\n",
              "      <th></th>\n",
              "      <th></th>\n",
              "      <th></th>\n",
              "      <th></th>\n",
              "      <th></th>\n",
              "    </tr>\n",
              "  </thead>\n",
              "  <tbody>\n",
              "    <tr>\n",
              "      <th>2014-01-09 03:00:00</th>\n",
              "      <td>1</td>\n",
              "      <td>0.0</td>\n",
              "      <td>-1.0</td>\n",
              "      <td>-1.0</td>\n",
              "      <td>NaN</td>\n",
              "    </tr>\n",
              "    <tr>\n",
              "      <th>2014-01-09 04:00:00</th>\n",
              "      <td>0</td>\n",
              "      <td>0.0</td>\n",
              "      <td>0.0</td>\n",
              "      <td>-1.0</td>\n",
              "      <td>0.000000</td>\n",
              "    </tr>\n",
              "    <tr>\n",
              "      <th>2014-01-09 05:00:00</th>\n",
              "      <td>0</td>\n",
              "      <td>0.0</td>\n",
              "      <td>0.0</td>\n",
              "      <td>-1.0</td>\n",
              "      <td>0.000000</td>\n",
              "    </tr>\n",
              "    <tr>\n",
              "      <th>2014-01-09 06:00:00</th>\n",
              "      <td>0</td>\n",
              "      <td>0.0</td>\n",
              "      <td>0.0</td>\n",
              "      <td>-1.0</td>\n",
              "      <td>0.000000</td>\n",
              "    </tr>\n",
              "    <tr>\n",
              "      <th>2014-01-09 07:00:00</th>\n",
              "      <td>0</td>\n",
              "      <td>0.0</td>\n",
              "      <td>0.0</td>\n",
              "      <td>-1.0</td>\n",
              "      <td>0.000000</td>\n",
              "    </tr>\n",
              "    <tr>\n",
              "      <th>2014-01-09 08:00:00</th>\n",
              "      <td>0</td>\n",
              "      <td>1.0</td>\n",
              "      <td>1.0</td>\n",
              "      <td>0.0</td>\n",
              "      <td>-1.000000</td>\n",
              "    </tr>\n",
              "    <tr>\n",
              "      <th>2014-01-09 09:00:00</th>\n",
              "      <td>0</td>\n",
              "      <td>1.0</td>\n",
              "      <td>1.0</td>\n",
              "      <td>1.0</td>\n",
              "      <td>NaN</td>\n",
              "    </tr>\n",
              "    <tr>\n",
              "      <th>2014-01-09 10:00:00</th>\n",
              "      <td>0</td>\n",
              "      <td>0.0</td>\n",
              "      <td>0.0</td>\n",
              "      <td>1.0</td>\n",
              "      <td>0.000000</td>\n",
              "    </tr>\n",
              "    <tr>\n",
              "      <th>2014-01-09 11:00:00</th>\n",
              "      <td>2</td>\n",
              "      <td>5.0</td>\n",
              "      <td>3.0</td>\n",
              "      <td>4.0</td>\n",
              "      <td>3.000000</td>\n",
              "    </tr>\n",
              "    <tr>\n",
              "      <th>2014-01-09 12:00:00</th>\n",
              "      <td>5</td>\n",
              "      <td>10.0</td>\n",
              "      <td>5.0</td>\n",
              "      <td>9.0</td>\n",
              "      <td>1.250000</td>\n",
              "    </tr>\n",
              "    <tr>\n",
              "      <th>2014-01-09 13:00:00</th>\n",
              "      <td>5</td>\n",
              "      <td>4.0</td>\n",
              "      <td>-1.0</td>\n",
              "      <td>8.0</td>\n",
              "      <td>-0.111111</td>\n",
              "    </tr>\n",
              "    <tr>\n",
              "      <th>2014-01-09 14:00:00</th>\n",
              "      <td>2</td>\n",
              "      <td>9.0</td>\n",
              "      <td>7.0</td>\n",
              "      <td>15.0</td>\n",
              "      <td>0.875000</td>\n",
              "    </tr>\n",
              "    <tr>\n",
              "      <th>2014-01-09 15:00:00</th>\n",
              "      <td>2</td>\n",
              "      <td>4.0</td>\n",
              "      <td>2.0</td>\n",
              "      <td>17.0</td>\n",
              "      <td>0.133333</td>\n",
              "    </tr>\n",
              "    <tr>\n",
              "      <th>2014-01-09 16:00:00</th>\n",
              "      <td>1</td>\n",
              "      <td>0.0</td>\n",
              "      <td>-1.0</td>\n",
              "      <td>16.0</td>\n",
              "      <td>-0.058824</td>\n",
              "    </tr>\n",
              "    <tr>\n",
              "      <th>2014-01-09 17:00:00</th>\n",
              "      <td>0</td>\n",
              "      <td>5.0</td>\n",
              "      <td>5.0</td>\n",
              "      <td>21.0</td>\n",
              "      <td>0.312500</td>\n",
              "    </tr>\n",
              "    <tr>\n",
              "      <th>2014-01-09 18:00:00</th>\n",
              "      <td>0</td>\n",
              "      <td>0.0</td>\n",
              "      <td>0.0</td>\n",
              "      <td>21.0</td>\n",
              "      <td>0.000000</td>\n",
              "    </tr>\n",
              "    <tr>\n",
              "      <th>2014-01-09 19:00:00</th>\n",
              "      <td>7</td>\n",
              "      <td>0.0</td>\n",
              "      <td>-7.0</td>\n",
              "      <td>14.0</td>\n",
              "      <td>-0.333333</td>\n",
              "    </tr>\n",
              "    <tr>\n",
              "      <th>2014-01-09 20:00:00</th>\n",
              "      <td>0</td>\n",
              "      <td>1.0</td>\n",
              "      <td>1.0</td>\n",
              "      <td>15.0</td>\n",
              "      <td>0.071429</td>\n",
              "    </tr>\n",
              "    <tr>\n",
              "      <th>2014-01-09 21:00:00</th>\n",
              "      <td>0</td>\n",
              "      <td>0.0</td>\n",
              "      <td>0.0</td>\n",
              "      <td>15.0</td>\n",
              "      <td>0.000000</td>\n",
              "    </tr>\n",
              "    <tr>\n",
              "      <th>2014-01-09 22:00:00</th>\n",
              "      <td>1</td>\n",
              "      <td>0.0</td>\n",
              "      <td>-1.0</td>\n",
              "      <td>14.0</td>\n",
              "      <td>-0.066667</td>\n",
              "    </tr>\n",
              "    <tr>\n",
              "      <th>2014-01-09 23:00:00</th>\n",
              "      <td>0</td>\n",
              "      <td>0.0</td>\n",
              "      <td>0.0</td>\n",
              "      <td>14.0</td>\n",
              "      <td>0.000000</td>\n",
              "    </tr>\n",
              "    <tr>\n",
              "      <th>2014-01-10 00:00:00</th>\n",
              "      <td>0</td>\n",
              "      <td>0.0</td>\n",
              "      <td>0.0</td>\n",
              "      <td>14.0</td>\n",
              "      <td>0.000000</td>\n",
              "    </tr>\n",
              "    <tr>\n",
              "      <th>2014-01-10 01:00:00</th>\n",
              "      <td>0</td>\n",
              "      <td>0.0</td>\n",
              "      <td>0.0</td>\n",
              "      <td>14.0</td>\n",
              "      <td>0.000000</td>\n",
              "    </tr>\n",
              "    <tr>\n",
              "      <th>2014-01-10 02:00:00</th>\n",
              "      <td>0</td>\n",
              "      <td>0.0</td>\n",
              "      <td>0.0</td>\n",
              "      <td>14.0</td>\n",
              "      <td>0.000000</td>\n",
              "    </tr>\n",
              "    <tr>\n",
              "      <th>2014-01-10 03:00:00</th>\n",
              "      <td>0</td>\n",
              "      <td>0.0</td>\n",
              "      <td>0.0</td>\n",
              "      <td>14.0</td>\n",
              "      <td>0.000000</td>\n",
              "    </tr>\n",
              "    <tr>\n",
              "      <th>2014-01-10 04:00:00</th>\n",
              "      <td>0</td>\n",
              "      <td>0.0</td>\n",
              "      <td>0.0</td>\n",
              "      <td>14.0</td>\n",
              "      <td>0.000000</td>\n",
              "    </tr>\n",
              "    <tr>\n",
              "      <th>2014-01-10 05:00:00</th>\n",
              "      <td>0</td>\n",
              "      <td>0.0</td>\n",
              "      <td>0.0</td>\n",
              "      <td>14.0</td>\n",
              "      <td>0.000000</td>\n",
              "    </tr>\n",
              "    <tr>\n",
              "      <th>2014-01-10 06:00:00</th>\n",
              "      <td>4</td>\n",
              "      <td>1.0</td>\n",
              "      <td>-3.0</td>\n",
              "      <td>11.0</td>\n",
              "      <td>-0.214286</td>\n",
              "    </tr>\n",
              "    <tr>\n",
              "      <th>2014-01-10 07:00:00</th>\n",
              "      <td>6</td>\n",
              "      <td>1.0</td>\n",
              "      <td>-5.0</td>\n",
              "      <td>6.0</td>\n",
              "      <td>-0.454545</td>\n",
              "    </tr>\n",
              "    <tr>\n",
              "      <th>2014-01-10 08:00:00</th>\n",
              "      <td>17</td>\n",
              "      <td>4.0</td>\n",
              "      <td>-13.0</td>\n",
              "      <td>-7.0</td>\n",
              "      <td>-2.166667</td>\n",
              "    </tr>\n",
              "    <tr>\n",
              "      <th>...</th>\n",
              "      <td>...</td>\n",
              "      <td>...</td>\n",
              "      <td>...</td>\n",
              "      <td>...</td>\n",
              "      <td>...</td>\n",
              "    </tr>\n",
              "    <tr>\n",
              "      <th>2015-12-07 16:00:00</th>\n",
              "      <td>10</td>\n",
              "      <td>6.0</td>\n",
              "      <td>-4.0</td>\n",
              "      <td>550.0</td>\n",
              "      <td>-0.007220</td>\n",
              "    </tr>\n",
              "    <tr>\n",
              "      <th>2015-12-07 17:00:00</th>\n",
              "      <td>0</td>\n",
              "      <td>1.0</td>\n",
              "      <td>1.0</td>\n",
              "      <td>551.0</td>\n",
              "      <td>0.001818</td>\n",
              "    </tr>\n",
              "    <tr>\n",
              "      <th>2015-12-07 18:00:00</th>\n",
              "      <td>1</td>\n",
              "      <td>1.0</td>\n",
              "      <td>0.0</td>\n",
              "      <td>551.0</td>\n",
              "      <td>0.000000</td>\n",
              "    </tr>\n",
              "    <tr>\n",
              "      <th>2015-12-07 19:00:00</th>\n",
              "      <td>0</td>\n",
              "      <td>2.0</td>\n",
              "      <td>2.0</td>\n",
              "      <td>553.0</td>\n",
              "      <td>0.003630</td>\n",
              "    </tr>\n",
              "    <tr>\n",
              "      <th>2015-12-07 20:00:00</th>\n",
              "      <td>1</td>\n",
              "      <td>0.0</td>\n",
              "      <td>-1.0</td>\n",
              "      <td>552.0</td>\n",
              "      <td>-0.001808</td>\n",
              "    </tr>\n",
              "    <tr>\n",
              "      <th>2015-12-07 21:00:00</th>\n",
              "      <td>1</td>\n",
              "      <td>0.0</td>\n",
              "      <td>-1.0</td>\n",
              "      <td>551.0</td>\n",
              "      <td>-0.001812</td>\n",
              "    </tr>\n",
              "    <tr>\n",
              "      <th>2015-12-07 22:00:00</th>\n",
              "      <td>0</td>\n",
              "      <td>0.0</td>\n",
              "      <td>0.0</td>\n",
              "      <td>551.0</td>\n",
              "      <td>0.000000</td>\n",
              "    </tr>\n",
              "    <tr>\n",
              "      <th>2015-12-07 23:00:00</th>\n",
              "      <td>0</td>\n",
              "      <td>0.0</td>\n",
              "      <td>0.0</td>\n",
              "      <td>551.0</td>\n",
              "      <td>0.000000</td>\n",
              "    </tr>\n",
              "    <tr>\n",
              "      <th>2015-12-08 00:00:00</th>\n",
              "      <td>0</td>\n",
              "      <td>0.0</td>\n",
              "      <td>0.0</td>\n",
              "      <td>551.0</td>\n",
              "      <td>0.000000</td>\n",
              "    </tr>\n",
              "    <tr>\n",
              "      <th>2015-12-08 01:00:00</th>\n",
              "      <td>0</td>\n",
              "      <td>0.0</td>\n",
              "      <td>0.0</td>\n",
              "      <td>551.0</td>\n",
              "      <td>0.000000</td>\n",
              "    </tr>\n",
              "    <tr>\n",
              "      <th>2015-12-08 02:00:00</th>\n",
              "      <td>0</td>\n",
              "      <td>0.0</td>\n",
              "      <td>0.0</td>\n",
              "      <td>551.0</td>\n",
              "      <td>0.000000</td>\n",
              "    </tr>\n",
              "    <tr>\n",
              "      <th>2015-12-08 03:00:00</th>\n",
              "      <td>0</td>\n",
              "      <td>0.0</td>\n",
              "      <td>0.0</td>\n",
              "      <td>551.0</td>\n",
              "      <td>0.000000</td>\n",
              "    </tr>\n",
              "    <tr>\n",
              "      <th>2015-12-08 04:00:00</th>\n",
              "      <td>0</td>\n",
              "      <td>0.0</td>\n",
              "      <td>0.0</td>\n",
              "      <td>551.0</td>\n",
              "      <td>0.000000</td>\n",
              "    </tr>\n",
              "    <tr>\n",
              "      <th>2015-12-08 05:00:00</th>\n",
              "      <td>0</td>\n",
              "      <td>0.0</td>\n",
              "      <td>0.0</td>\n",
              "      <td>551.0</td>\n",
              "      <td>0.000000</td>\n",
              "    </tr>\n",
              "    <tr>\n",
              "      <th>2015-12-08 06:00:00</th>\n",
              "      <td>3</td>\n",
              "      <td>2.0</td>\n",
              "      <td>-1.0</td>\n",
              "      <td>550.0</td>\n",
              "      <td>-0.001815</td>\n",
              "    </tr>\n",
              "    <tr>\n",
              "      <th>2015-12-08 07:00:00</th>\n",
              "      <td>6</td>\n",
              "      <td>9.0</td>\n",
              "      <td>3.0</td>\n",
              "      <td>553.0</td>\n",
              "      <td>0.005455</td>\n",
              "    </tr>\n",
              "    <tr>\n",
              "      <th>2015-12-08 08:00:00</th>\n",
              "      <td>25</td>\n",
              "      <td>6.0</td>\n",
              "      <td>-19.0</td>\n",
              "      <td>534.0</td>\n",
              "      <td>-0.034358</td>\n",
              "    </tr>\n",
              "    <tr>\n",
              "      <th>2015-12-08 09:00:00</th>\n",
              "      <td>7</td>\n",
              "      <td>5.0</td>\n",
              "      <td>-2.0</td>\n",
              "      <td>532.0</td>\n",
              "      <td>-0.003745</td>\n",
              "    </tr>\n",
              "    <tr>\n",
              "      <th>2015-12-08 10:00:00</th>\n",
              "      <td>3</td>\n",
              "      <td>3.0</td>\n",
              "      <td>0.0</td>\n",
              "      <td>532.0</td>\n",
              "      <td>0.000000</td>\n",
              "    </tr>\n",
              "    <tr>\n",
              "      <th>2015-12-08 11:00:00</th>\n",
              "      <td>3</td>\n",
              "      <td>0.0</td>\n",
              "      <td>-3.0</td>\n",
              "      <td>529.0</td>\n",
              "      <td>-0.005639</td>\n",
              "    </tr>\n",
              "    <tr>\n",
              "      <th>2015-12-08 12:00:00</th>\n",
              "      <td>1</td>\n",
              "      <td>0.0</td>\n",
              "      <td>-1.0</td>\n",
              "      <td>528.0</td>\n",
              "      <td>-0.001890</td>\n",
              "    </tr>\n",
              "    <tr>\n",
              "      <th>2015-12-08 13:00:00</th>\n",
              "      <td>2</td>\n",
              "      <td>2.0</td>\n",
              "      <td>0.0</td>\n",
              "      <td>528.0</td>\n",
              "      <td>0.000000</td>\n",
              "    </tr>\n",
              "    <tr>\n",
              "      <th>2015-12-08 14:00:00</th>\n",
              "      <td>0</td>\n",
              "      <td>3.0</td>\n",
              "      <td>3.0</td>\n",
              "      <td>531.0</td>\n",
              "      <td>0.005682</td>\n",
              "    </tr>\n",
              "    <tr>\n",
              "      <th>2015-12-08 15:00:00</th>\n",
              "      <td>2</td>\n",
              "      <td>9.0</td>\n",
              "      <td>7.0</td>\n",
              "      <td>538.0</td>\n",
              "      <td>0.013183</td>\n",
              "    </tr>\n",
              "    <tr>\n",
              "      <th>2015-12-08 16:00:00</th>\n",
              "      <td>2</td>\n",
              "      <td>13.0</td>\n",
              "      <td>11.0</td>\n",
              "      <td>549.0</td>\n",
              "      <td>0.020446</td>\n",
              "    </tr>\n",
              "    <tr>\n",
              "      <th>2015-12-08 17:00:00</th>\n",
              "      <td>5</td>\n",
              "      <td>9.0</td>\n",
              "      <td>4.0</td>\n",
              "      <td>553.0</td>\n",
              "      <td>0.007286</td>\n",
              "    </tr>\n",
              "    <tr>\n",
              "      <th>2015-12-08 18:00:00</th>\n",
              "      <td>3</td>\n",
              "      <td>6.0</td>\n",
              "      <td>3.0</td>\n",
              "      <td>556.0</td>\n",
              "      <td>0.005425</td>\n",
              "    </tr>\n",
              "    <tr>\n",
              "      <th>2015-12-08 19:00:00</th>\n",
              "      <td>1</td>\n",
              "      <td>2.0</td>\n",
              "      <td>1.0</td>\n",
              "      <td>557.0</td>\n",
              "      <td>0.001799</td>\n",
              "    </tr>\n",
              "    <tr>\n",
              "      <th>2015-12-08 20:00:00</th>\n",
              "      <td>2</td>\n",
              "      <td>1.0</td>\n",
              "      <td>-1.0</td>\n",
              "      <td>556.0</td>\n",
              "      <td>-0.001795</td>\n",
              "    </tr>\n",
              "    <tr>\n",
              "      <th>2015-12-08 21:00:00</th>\n",
              "      <td>1</td>\n",
              "      <td>0.0</td>\n",
              "      <td>-1.0</td>\n",
              "      <td>555.0</td>\n",
              "      <td>-0.001799</td>\n",
              "    </tr>\n",
              "  </tbody>\n",
              "</table>\n",
              "<p>16771 rows × 5 columns</p>\n",
              "</div>"
            ],
            "text/plain": [
              "                     Start Station  End Station  net_change_bikes  \\\n",
              "Start Date                                                          \n",
              "2014-01-09 03:00:00              1          0.0              -1.0   \n",
              "2014-01-09 04:00:00              0          0.0               0.0   \n",
              "2014-01-09 05:00:00              0          0.0               0.0   \n",
              "2014-01-09 06:00:00              0          0.0               0.0   \n",
              "2014-01-09 07:00:00              0          0.0               0.0   \n",
              "2014-01-09 08:00:00              0          1.0               1.0   \n",
              "2014-01-09 09:00:00              0          1.0               1.0   \n",
              "2014-01-09 10:00:00              0          0.0               0.0   \n",
              "2014-01-09 11:00:00              2          5.0               3.0   \n",
              "2014-01-09 12:00:00              5         10.0               5.0   \n",
              "2014-01-09 13:00:00              5          4.0              -1.0   \n",
              "2014-01-09 14:00:00              2          9.0               7.0   \n",
              "2014-01-09 15:00:00              2          4.0               2.0   \n",
              "2014-01-09 16:00:00              1          0.0              -1.0   \n",
              "2014-01-09 17:00:00              0          5.0               5.0   \n",
              "2014-01-09 18:00:00              0          0.0               0.0   \n",
              "2014-01-09 19:00:00              7          0.0              -7.0   \n",
              "2014-01-09 20:00:00              0          1.0               1.0   \n",
              "2014-01-09 21:00:00              0          0.0               0.0   \n",
              "2014-01-09 22:00:00              1          0.0              -1.0   \n",
              "2014-01-09 23:00:00              0          0.0               0.0   \n",
              "2014-01-10 00:00:00              0          0.0               0.0   \n",
              "2014-01-10 01:00:00              0          0.0               0.0   \n",
              "2014-01-10 02:00:00              0          0.0               0.0   \n",
              "2014-01-10 03:00:00              0          0.0               0.0   \n",
              "2014-01-10 04:00:00              0          0.0               0.0   \n",
              "2014-01-10 05:00:00              0          0.0               0.0   \n",
              "2014-01-10 06:00:00              4          1.0              -3.0   \n",
              "2014-01-10 07:00:00              6          1.0              -5.0   \n",
              "2014-01-10 08:00:00             17          4.0             -13.0   \n",
              "...                            ...          ...               ...   \n",
              "2015-12-07 16:00:00             10          6.0              -4.0   \n",
              "2015-12-07 17:00:00              0          1.0               1.0   \n",
              "2015-12-07 18:00:00              1          1.0               0.0   \n",
              "2015-12-07 19:00:00              0          2.0               2.0   \n",
              "2015-12-07 20:00:00              1          0.0              -1.0   \n",
              "2015-12-07 21:00:00              1          0.0              -1.0   \n",
              "2015-12-07 22:00:00              0          0.0               0.0   \n",
              "2015-12-07 23:00:00              0          0.0               0.0   \n",
              "2015-12-08 00:00:00              0          0.0               0.0   \n",
              "2015-12-08 01:00:00              0          0.0               0.0   \n",
              "2015-12-08 02:00:00              0          0.0               0.0   \n",
              "2015-12-08 03:00:00              0          0.0               0.0   \n",
              "2015-12-08 04:00:00              0          0.0               0.0   \n",
              "2015-12-08 05:00:00              0          0.0               0.0   \n",
              "2015-12-08 06:00:00              3          2.0              -1.0   \n",
              "2015-12-08 07:00:00              6          9.0               3.0   \n",
              "2015-12-08 08:00:00             25          6.0             -19.0   \n",
              "2015-12-08 09:00:00              7          5.0              -2.0   \n",
              "2015-12-08 10:00:00              3          3.0               0.0   \n",
              "2015-12-08 11:00:00              3          0.0              -3.0   \n",
              "2015-12-08 12:00:00              1          0.0              -1.0   \n",
              "2015-12-08 13:00:00              2          2.0               0.0   \n",
              "2015-12-08 14:00:00              0          3.0               3.0   \n",
              "2015-12-08 15:00:00              2          9.0               7.0   \n",
              "2015-12-08 16:00:00              2         13.0              11.0   \n",
              "2015-12-08 17:00:00              5          9.0               4.0   \n",
              "2015-12-08 18:00:00              3          6.0               3.0   \n",
              "2015-12-08 19:00:00              1          2.0               1.0   \n",
              "2015-12-08 20:00:00              2          1.0              -1.0   \n",
              "2015-12-08 21:00:00              1          0.0              -1.0   \n",
              "\n",
              "                     total_bikes_change  total_bikes_pct_change  \n",
              "Start Date                                                       \n",
              "2014-01-09 03:00:00                -1.0                     NaN  \n",
              "2014-01-09 04:00:00                -1.0                0.000000  \n",
              "2014-01-09 05:00:00                -1.0                0.000000  \n",
              "2014-01-09 06:00:00                -1.0                0.000000  \n",
              "2014-01-09 07:00:00                -1.0                0.000000  \n",
              "2014-01-09 08:00:00                 0.0               -1.000000  \n",
              "2014-01-09 09:00:00                 1.0                     NaN  \n",
              "2014-01-09 10:00:00                 1.0                0.000000  \n",
              "2014-01-09 11:00:00                 4.0                3.000000  \n",
              "2014-01-09 12:00:00                 9.0                1.250000  \n",
              "2014-01-09 13:00:00                 8.0               -0.111111  \n",
              "2014-01-09 14:00:00                15.0                0.875000  \n",
              "2014-01-09 15:00:00                17.0                0.133333  \n",
              "2014-01-09 16:00:00                16.0               -0.058824  \n",
              "2014-01-09 17:00:00                21.0                0.312500  \n",
              "2014-01-09 18:00:00                21.0                0.000000  \n",
              "2014-01-09 19:00:00                14.0               -0.333333  \n",
              "2014-01-09 20:00:00                15.0                0.071429  \n",
              "2014-01-09 21:00:00                15.0                0.000000  \n",
              "2014-01-09 22:00:00                14.0               -0.066667  \n",
              "2014-01-09 23:00:00                14.0                0.000000  \n",
              "2014-01-10 00:00:00                14.0                0.000000  \n",
              "2014-01-10 01:00:00                14.0                0.000000  \n",
              "2014-01-10 02:00:00                14.0                0.000000  \n",
              "2014-01-10 03:00:00                14.0                0.000000  \n",
              "2014-01-10 04:00:00                14.0                0.000000  \n",
              "2014-01-10 05:00:00                14.0                0.000000  \n",
              "2014-01-10 06:00:00                11.0               -0.214286  \n",
              "2014-01-10 07:00:00                 6.0               -0.454545  \n",
              "2014-01-10 08:00:00                -7.0               -2.166667  \n",
              "...                                 ...                     ...  \n",
              "2015-12-07 16:00:00               550.0               -0.007220  \n",
              "2015-12-07 17:00:00               551.0                0.001818  \n",
              "2015-12-07 18:00:00               551.0                0.000000  \n",
              "2015-12-07 19:00:00               553.0                0.003630  \n",
              "2015-12-07 20:00:00               552.0               -0.001808  \n",
              "2015-12-07 21:00:00               551.0               -0.001812  \n",
              "2015-12-07 22:00:00               551.0                0.000000  \n",
              "2015-12-07 23:00:00               551.0                0.000000  \n",
              "2015-12-08 00:00:00               551.0                0.000000  \n",
              "2015-12-08 01:00:00               551.0                0.000000  \n",
              "2015-12-08 02:00:00               551.0                0.000000  \n",
              "2015-12-08 03:00:00               551.0                0.000000  \n",
              "2015-12-08 04:00:00               551.0                0.000000  \n",
              "2015-12-08 05:00:00               551.0                0.000000  \n",
              "2015-12-08 06:00:00               550.0               -0.001815  \n",
              "2015-12-08 07:00:00               553.0                0.005455  \n",
              "2015-12-08 08:00:00               534.0               -0.034358  \n",
              "2015-12-08 09:00:00               532.0               -0.003745  \n",
              "2015-12-08 10:00:00               532.0                0.000000  \n",
              "2015-12-08 11:00:00               529.0               -0.005639  \n",
              "2015-12-08 12:00:00               528.0               -0.001890  \n",
              "2015-12-08 13:00:00               528.0                0.000000  \n",
              "2015-12-08 14:00:00               531.0                0.005682  \n",
              "2015-12-08 15:00:00               538.0                0.013183  \n",
              "2015-12-08 16:00:00               549.0                0.020446  \n",
              "2015-12-08 17:00:00               553.0                0.007286  \n",
              "2015-12-08 18:00:00               556.0                0.005425  \n",
              "2015-12-08 19:00:00               557.0                0.001799  \n",
              "2015-12-08 20:00:00               556.0               -0.001795  \n",
              "2015-12-08 21:00:00               555.0               -0.001799  \n",
              "\n",
              "[16771 rows x 5 columns]"
            ]
          },
          "metadata": {
            "tags": []
          },
          "execution_count": 36
        }
      ]
    },
    {
      "cell_type": "code",
      "metadata": {
        "id": "24JaP9NoNUiC",
        "colab_type": "code",
        "outputId": "5adb5c6f-ea29-4215-f032-90551718101f",
        "colab": {
          "base_uri": "https://localhost:8080/",
          "height": 167
        }
      },
      "source": [
        "balance_station"
      ],
      "execution_count": 0,
      "outputs": [
        {
          "output_type": "error",
          "ename": "NameError",
          "evalue": "ignored",
          "traceback": [
            "\u001b[0;31m---------------------------------------------------------------------------\u001b[0m",
            "\u001b[0;31mNameError\u001b[0m                                 Traceback (most recent call last)",
            "\u001b[0;32m<ipython-input-35-3b1795e00d6a>\u001b[0m in \u001b[0;36m<module>\u001b[0;34m()\u001b[0m\n\u001b[0;32m----> 1\u001b[0;31m \u001b[0mbalance_station\u001b[0m\u001b[0;34m\u001b[0m\u001b[0;34m\u001b[0m\u001b[0m\n\u001b[0m",
            "\u001b[0;31mNameError\u001b[0m: name 'balance_station' is not defined"
          ]
        }
      ]
    },
    {
      "cell_type": "markdown",
      "metadata": {
        "id": "GVwRkdmAmypD",
        "colab_type": "text"
      },
      "source": [
        "##Merging of weather_station with trip dataset"
      ]
    },
    {
      "cell_type": "code",
      "metadata": {
        "id": "gi2sgbFAL1nz",
        "colab_type": "code",
        "colab": {}
      },
      "source": [
        "def trip_weather_station_merge_ID(station_id):\n",
        "  trip_start_end_station = number_of_bikes_station_id (station_id)\n",
        "  trip_start_end_station.reset_index(inplace = True) #Remove the index from this\n",
        "  trip_start_end_station[\"Date\"] = trip_start_end_station[\"Start Date\"].dt.date # creating a new column of Date\n",
        "  trip_start_end_station.head()\n",
        "  trip_start_end_station['Date']= pd.to_datetime (trip_start_end_station['Date']) # Converting that column of Date into pandas date format \n",
        "  weather_station = pickle.load (open(\"/content/drive/My Drive/Data/Bikes_data/data/weather_station_dup.pickle\", \"rb\")) # Loading the data of weather_station merger dataframe with pickle\n",
        "  weather_station['Date']= pd.to_datetime(weather_station['Date'])  # Changing the weather dataframe \"Date\" column into datetime so that we can merge with start_end_station\n",
        "  weather_station_id = weather_station[weather_station[\"Id\"] == station_id] # Taking only the values of selected station id\n",
        "  #weather_station_id = weather_station.copy()\n",
        "  weather_station_id.fillna(method = 'ffill', inplace = True)\n",
        "  print (\"Weather_station_id shape is\" , weather_station_id.shape)\n",
        "  print (\"start_end_station shape is\" , trip_start_end_station.shape)\n",
        "  trip_start_end_station.reset_index( inplace = True)\n",
        "  weather_station_id.reset_index ( inplace = True)\n",
        "  trip_weather_station_ID =pd.merge (trip_start_end_station, weather_station_id, on = \"Date\", how = 'outer')\n",
        "  print (\"The number of rows of the merger should be same as start_end_station length of rows :\" ,trip_weather_station_ID.shape)\n",
        "  trip_weather_station_ID.fillna(method = 'ffill', inplace = True)\n",
        "  return trip_weather_station_ID\n",
        "  "
      ],
      "execution_count": 0,
      "outputs": []
    },
    {
      "cell_type": "code",
      "metadata": {
        "id": "AyPOCflEMjYm",
        "colab_type": "code",
        "outputId": "b665ae84-08d4-4b0a-fd27-639238eed7dd",
        "colab": {
          "base_uri": "https://localhost:8080/",
          "height": 167
        }
      },
      "source": [
        ""
      ],
      "execution_count": 0,
      "outputs": [
        {
          "output_type": "error",
          "ename": "NameError",
          "evalue": "ignored",
          "traceback": [
            "\u001b[0;31m---------------------------------------------------------------------------\u001b[0m",
            "\u001b[0;31mNameError\u001b[0m                                 Traceback (most recent call last)",
            "\u001b[0;32m<ipython-input-34-169c080792b6>\u001b[0m in \u001b[0;36m<module>\u001b[0;34m()\u001b[0m\n\u001b[0;32m----> 1\u001b[0;31m \u001b[0mtrip_weather_station_ID\u001b[0m\u001b[0;34m\u001b[0m\u001b[0;34m\u001b[0m\u001b[0m\n\u001b[0m",
            "\u001b[0;31mNameError\u001b[0m: name 'trip_weather_station_ID' is not defined"
          ]
        }
      ]
    },
    {
      "cell_type": "code",
      "metadata": {
        "id": "7p6lBK14L4Cx",
        "colab_type": "code",
        "outputId": "0fa7c955-e58b-47f0-a9ab-581bc5782a63",
        "colab": {
          "base_uri": "https://localhost:8080/",
          "height": 158
        }
      },
      "source": [
        "\n",
        "trip_weather_station_merge = trip_weather_station_merge_ID(station_id)"
      ],
      "execution_count": 0,
      "outputs": [
        {
          "output_type": "stream",
          "text": [
            "Weather_station_id shape is (365, 25)\n",
            "start_end_station shape is (16771, 7)\n",
            "The number of rows of the merger should be same as start_end_station length of rows : (16771, 33)\n"
          ],
          "name": "stdout"
        },
        {
          "output_type": "stream",
          "text": [
            "/usr/local/lib/python3.6/dist-packages/pandas/core/frame.py:3035: SettingWithCopyWarning: \n",
            "A value is trying to be set on a copy of a slice from a DataFrame\n",
            "\n",
            "See the caveats in the documentation: http://pandas.pydata.org/pandas-docs/stable/indexing.html#indexing-view-versus-copy\n",
            "  downcast=downcast, **kwargs)\n"
          ],
          "name": "stderr"
        }
      ]
    },
    {
      "cell_type": "markdown",
      "metadata": {
        "id": "4mfHAib7p1HF",
        "colab_type": "text"
      },
      "source": [
        "##Clustering the stations connectivity\n",
        "\n",
        "Clustering technique can be applied to get the connectivity between the stations"
      ]
    },
    {
      "cell_type": "code",
      "metadata": {
        "id": "nv-_gNj4p5tv",
        "colab_type": "code",
        "outputId": "a1bcdbcc-3d5e-48e8-cb67-be16d2130f73",
        "colab": {
          "base_uri": "https://localhost:8080/",
          "height": 123
        }
      },
      "source": [
        "outbound = pd.crosstab (trip_data_dup['Start Station'], trip_data_dup['End Station'])\n",
        "inbound = pd.crosstab (trip_data_dup['End Station'], trip_data_dup['Start Station'])\n",
        "connectivity = inbound + outbound\n",
        "connectivity.index\n",
        "#connectivity[connectivity['Start Station']==2]"
      ],
      "execution_count": 0,
      "outputs": [
        {
          "output_type": "execute_result",
          "data": {
            "text/plain": [
              "Int64Index([ 2,  3,  4,  5,  6,  7,  8,  9, 10, 11, 12, 13, 14, 16, 21, 22, 23,\n",
              "            24, 25, 26, 27, 28, 29, 30, 31, 32, 33, 34, 35, 36, 37, 38, 39, 41,\n",
              "            42, 45, 46, 47, 48, 49, 50, 51, 54, 55, 56, 57, 58, 59, 60, 61, 62,\n",
              "            63, 64, 65, 66, 67, 68, 69, 70, 71, 72, 73, 74, 75, 76, 77, 80, 82,\n",
              "            83, 84, 85, 86, 87, 88, 89, 90],\n",
              "           dtype='int64', name='End Station')"
            ]
          },
          "metadata": {
            "tags": []
          },
          "execution_count": 31
        }
      ]
    },
    {
      "cell_type": "code",
      "metadata": {
        "id": "6rsqD-h0iR38",
        "colab_type": "code",
        "colab": {}
      },
      "source": [
        ""
      ],
      "execution_count": 0,
      "outputs": []
    },
    {
      "cell_type": "code",
      "metadata": {
        "id": "IPez_-m8-fa2",
        "colab_type": "code",
        "colab": {}
      },
      "source": [
        "# Save the data to pickle\n",
        "pickle_out = open (\"/content/drive/My Drive/Data/Bikes_data/data/trip_weather_station_merge.pickle\", \"wb\")\n",
        "pickle.dump (trip_weather_station_merge, pickle_out)\n",
        "pickle_out.close()\n",
        "\n"
      ],
      "execution_count": 0,
      "outputs": []
    }
  ]
}